{
 "cells": [
  {
   "cell_type": "markdown",
   "source": [
    "!nvidia-smi"
   ],
   "metadata": {}
  },
  {
   "cell_type": "markdown",
   "source": [
    "!pip install datasets"
   ],
   "metadata": {}
  },
  {
   "cell_type": "markdown",
   "source": [
    "!pip install transformers"
   ],
   "metadata": {}
  },
  {
   "cell_type": "markdown",
   "source": [
    "# Test hugging face generic training script\n",
    "!python run_clm.py \\\n",
    "  --model_name_or_path distilgpt2 \\\n",
    "  --output_dir output \\\n",
    "  --dataset_name wikitext \\\n",
    "  --dataset_config_name wikitext-103-raw-v1\n"
   ],
   "metadata": {}
  },
  {
   "cell_type": "markdown",
   "source": [
    "Result: On Colab Pro (P100 GPU, RAM 25G), resource exhausted\n",
    "\n",
    "Limit:                     16185556992\n",
    "\n",
    "InUse:                     14707996160\n",
    "\n",
    "MaxInUse:                  14707996160\n",
    "\n",
    "NumAllocs:                        1604\n",
    "\n",
    "MaxAllocSize:               1646821376\n",
    "\n",
    "Reserved:                            0\n",
    "\n",
    "PeakReserved:                        0\n",
    "\n",
    "LargestFreeBlock:                    0\n",
    "\n",
    "\n",
    "2021-08-20 06:52:19.883845: W tensorflow/core/common_runtime/bfc_allocator.cc:468] **************************************________******************************************************\n",
    "2021-08-20 06:52:19.883904: W tensorflow/core/framework/op_kernel.cc:1692] OP_REQUIRES failed at strided_slice_op.cc:138 : Resource exhausted: OOM when allocating tensor with shape[8,1023,50257] and type float on /job:localhost/replica:0/task:0/device:GPU:0 by allocator GPU_0_bfc\n",
    "Traceback (most recent call last):"
   ],
   "metadata": {}
  }
 ],
 "metadata": {
  "orig_nbformat": 4,
  "language_info": {
   "name": "python"
  }
 },
 "nbformat": 4,
 "nbformat_minor": 2
}