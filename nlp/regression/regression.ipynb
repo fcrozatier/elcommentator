{
 "cells": [
  {
   "cell_type": "code",
   "execution_count": 3,
   "source": [
    "import matplotlib.pyplot as plt\n",
    "import numpy as np\n",
    "import pandas as pd\n",
    "import seaborn as sns\n",
    "import pandas as pd\n",
    "\n",
    "# Make numpy printouts easier to read.\n",
    "np.set_printoptions(precision=3, suppress=True)"
   ],
   "outputs": [],
   "metadata": {}
  },
  {
   "cell_type": "code",
   "execution_count": 2,
   "source": [
    "import tensorflow as tf\n",
    "\n",
    "from tensorflow import keras\n",
    "from tensorflow.keras import layers\n",
    "from tensorflow.keras.layers.experimental import preprocessing"
   ],
   "outputs": [],
   "metadata": {}
  },
  {
   "cell_type": "code",
   "execution_count": 4,
   "source": [
    "df = pd.read_csv('../ranking/custom_rounded_score.csv')"
   ],
   "outputs": [],
   "metadata": {}
  },
  {
   "cell_type": "code",
   "execution_count": 7,
   "source": [
    "train_df = df.sample(frac=0.8, random_state=0)\n",
    "test_df = df.drop(train_df.index)"
   ],
   "outputs": [],
   "metadata": {}
  },
  {
   "cell_type": "code",
   "execution_count": 13,
   "source": [
    "train_features = train_df.copy()[['eleve','classe','min','max','score']]\n",
    "test_features = test_df.copy()[['eleve','classe','min','max','score']]\n",
    "\n",
    "train_labels = train_features.pop('score')\n",
    "test_labels = test_features.pop('score')"
   ],
   "outputs": [],
   "metadata": {}
  },
  {
   "cell_type": "code",
   "execution_count": 17,
   "source": [
    "train_df.describe().transpose()[['mean', 'std']]"
   ],
   "outputs": [
    {
     "output_type": "execute_result",
     "data": {
      "text/plain": [
       "                    mean       std\n",
       "eleve          12.518844  3.441550\n",
       "classe         12.092705  2.012112\n",
       "min             5.402816  3.442016\n",
       "max            17.819241  1.687189\n",
       "label           3.595584  1.000166\n",
       "accuracy        0.565784  0.102314\n",
       "skew            0.240838  0.584088\n",
       "delta           0.262129  0.795336\n",
       "scale           2.774214  0.411905\n",
       "location       11.424501  2.298904\n",
       "shape           1.368833  6.309375\n",
       "stars           3.232454  1.384057\n",
       "score           3.414019  1.082115\n",
       "rounded_score   3.171244  1.147054"
      ],
      "text/html": [
       "<div>\n",
       "<style scoped>\n",
       "    .dataframe tbody tr th:only-of-type {\n",
       "        vertical-align: middle;\n",
       "    }\n",
       "\n",
       "    .dataframe tbody tr th {\n",
       "        vertical-align: top;\n",
       "    }\n",
       "\n",
       "    .dataframe thead th {\n",
       "        text-align: right;\n",
       "    }\n",
       "</style>\n",
       "<table border=\"1\" class=\"dataframe\">\n",
       "  <thead>\n",
       "    <tr style=\"text-align: right;\">\n",
       "      <th></th>\n",
       "      <th>mean</th>\n",
       "      <th>std</th>\n",
       "    </tr>\n",
       "  </thead>\n",
       "  <tbody>\n",
       "    <tr>\n",
       "      <th>eleve</th>\n",
       "      <td>12.518844</td>\n",
       "      <td>3.441550</td>\n",
       "    </tr>\n",
       "    <tr>\n",
       "      <th>classe</th>\n",
       "      <td>12.092705</td>\n",
       "      <td>2.012112</td>\n",
       "    </tr>\n",
       "    <tr>\n",
       "      <th>min</th>\n",
       "      <td>5.402816</td>\n",
       "      <td>3.442016</td>\n",
       "    </tr>\n",
       "    <tr>\n",
       "      <th>max</th>\n",
       "      <td>17.819241</td>\n",
       "      <td>1.687189</td>\n",
       "    </tr>\n",
       "    <tr>\n",
       "      <th>label</th>\n",
       "      <td>3.595584</td>\n",
       "      <td>1.000166</td>\n",
       "    </tr>\n",
       "    <tr>\n",
       "      <th>accuracy</th>\n",
       "      <td>0.565784</td>\n",
       "      <td>0.102314</td>\n",
       "    </tr>\n",
       "    <tr>\n",
       "      <th>skew</th>\n",
       "      <td>0.240838</td>\n",
       "      <td>0.584088</td>\n",
       "    </tr>\n",
       "    <tr>\n",
       "      <th>delta</th>\n",
       "      <td>0.262129</td>\n",
       "      <td>0.795336</td>\n",
       "    </tr>\n",
       "    <tr>\n",
       "      <th>scale</th>\n",
       "      <td>2.774214</td>\n",
       "      <td>0.411905</td>\n",
       "    </tr>\n",
       "    <tr>\n",
       "      <th>location</th>\n",
       "      <td>11.424501</td>\n",
       "      <td>2.298904</td>\n",
       "    </tr>\n",
       "    <tr>\n",
       "      <th>shape</th>\n",
       "      <td>1.368833</td>\n",
       "      <td>6.309375</td>\n",
       "    </tr>\n",
       "    <tr>\n",
       "      <th>stars</th>\n",
       "      <td>3.232454</td>\n",
       "      <td>1.384057</td>\n",
       "    </tr>\n",
       "    <tr>\n",
       "      <th>score</th>\n",
       "      <td>3.414019</td>\n",
       "      <td>1.082115</td>\n",
       "    </tr>\n",
       "    <tr>\n",
       "      <th>rounded_score</th>\n",
       "      <td>3.171244</td>\n",
       "      <td>1.147054</td>\n",
       "    </tr>\n",
       "  </tbody>\n",
       "</table>\n",
       "</div>"
      ]
     },
     "metadata": {},
     "execution_count": 17
    }
   ],
   "metadata": {}
  },
  {
   "cell_type": "markdown",
   "source": [
    "## Normalization"
   ],
   "metadata": {}
  },
  {
   "cell_type": "code",
   "execution_count": 18,
   "source": [
    "normalizer = preprocessing.Normalization(axis=-1)"
   ],
   "outputs": [],
   "metadata": {}
  },
  {
   "cell_type": "code",
   "execution_count": 19,
   "source": [
    "normalizer.adapt(np.array(train_features))"
   ],
   "outputs": [],
   "metadata": {}
  },
  {
   "cell_type": "code",
   "execution_count": 22,
   "source": [
    "normalizer.mean.numpy()"
   ],
   "outputs": [
    {
     "output_type": "execute_result",
     "data": {
      "text/plain": [
       "array([12.519, 12.093,  5.403, 17.819], dtype=float32)"
      ]
     },
     "metadata": {},
     "execution_count": 22
    }
   ],
   "metadata": {}
  },
  {
   "cell_type": "code",
   "execution_count": 26,
   "source": [
    "# Example\n",
    "first = np.array(train_features[:1])\n",
    "first, normalizer(first).numpy()"
   ],
   "outputs": [
    {
     "output_type": "execute_result",
     "data": {
      "text/plain": [
       "(array([[14.2 , 11.62,  2.9 , 19.8 ]]),\n",
       " array([[ 0.489, -0.235, -0.727,  1.174]], dtype=float32))"
      ]
     },
     "metadata": {},
     "execution_count": 26
    }
   ],
   "metadata": {}
  },
  {
   "cell_type": "markdown",
   "source": [
    "## Linear regression"
   ],
   "metadata": {}
  },
  {
   "cell_type": "code",
   "execution_count": 27,
   "source": [
    "# Create Normalization layer\n",
    "eleve = np.array(train_features['eleve'])\n",
    "elever_normalizer = preprocessing.Normalization(input_shape=[1,], axis=None)\n",
    "elever_normalizer.adapt(eleve)"
   ],
   "outputs": [],
   "metadata": {}
  },
  {
   "cell_type": "code",
   "execution_count": 28,
   "source": [
    "# Build sequential model\n",
    "eleve_model = tf.keras.Sequential([\n",
    "  elever_normalizer,\n",
    "  layers.Dense(units=1)\n",
    "])\n",
    "\n",
    "eleve_model.summary()"
   ],
   "outputs": [
    {
     "output_type": "stream",
     "name": "stdout",
     "text": [
      "Model: \"sequential\"\n",
      "_________________________________________________________________\n",
      "Layer (type)                 Output Shape              Param #   \n",
      "=================================================================\n",
      "normalization_1 (Normalizati (None, 1)                 3         \n",
      "_________________________________________________________________\n",
      "dense (Dense)                (None, 1)                 2         \n",
      "=================================================================\n",
      "Total params: 5\n",
      "Trainable params: 2\n",
      "Non-trainable params: 3\n",
      "_________________________________________________________________\n"
     ]
    }
   ],
   "metadata": {}
  },
  {
   "cell_type": "code",
   "execution_count": 32,
   "source": [
    "eleve_model.compile(\n",
    "  optimizer=tf.optimizers.Adam(learning_rate=0.1),\n",
    "  loss=\"mean_absolute_error\"\n",
    ")"
   ],
   "outputs": [],
   "metadata": {}
  },
  {
   "cell_type": "code",
   "execution_count": 34,
   "source": [
    "history = eleve_model.fit(\n",
    "  train_features['eleve'], train_labels,\n",
    "  epochs=100,\n",
    "  verbose=0,\n",
    "  validation_split=0.2\n",
    ")"
   ],
   "outputs": [],
   "metadata": {}
  },
  {
   "cell_type": "code",
   "execution_count": 38,
   "source": [
    "hist = pd.DataFrame(history.history)\n",
    "hist['epoch'] = history.epoch\n",
    "hist"
   ],
   "outputs": [
    {
     "output_type": "execute_result",
     "data": {
      "text/plain": [
       "        loss  val_loss  epoch\n",
       "0   0.481740  0.475967      0\n",
       "1   0.476470  0.475775      1\n",
       "2   0.477847  0.488704      2\n",
       "3   0.479338  0.479284      3\n",
       "4   0.477584  0.491234      4\n",
       "..       ...       ...    ...\n",
       "95  0.477125  0.480600     95\n",
       "96  0.478170  0.479135     96\n",
       "97  0.477161  0.489539     97\n",
       "98  0.477344  0.484866     98\n",
       "99  0.482408  0.490823     99\n",
       "\n",
       "[100 rows x 3 columns]"
      ],
      "text/html": [
       "<div>\n",
       "<style scoped>\n",
       "    .dataframe tbody tr th:only-of-type {\n",
       "        vertical-align: middle;\n",
       "    }\n",
       "\n",
       "    .dataframe tbody tr th {\n",
       "        vertical-align: top;\n",
       "    }\n",
       "\n",
       "    .dataframe thead th {\n",
       "        text-align: right;\n",
       "    }\n",
       "</style>\n",
       "<table border=\"1\" class=\"dataframe\">\n",
       "  <thead>\n",
       "    <tr style=\"text-align: right;\">\n",
       "      <th></th>\n",
       "      <th>loss</th>\n",
       "      <th>val_loss</th>\n",
       "      <th>epoch</th>\n",
       "    </tr>\n",
       "  </thead>\n",
       "  <tbody>\n",
       "    <tr>\n",
       "      <th>0</th>\n",
       "      <td>0.481740</td>\n",
       "      <td>0.475967</td>\n",
       "      <td>0</td>\n",
       "    </tr>\n",
       "    <tr>\n",
       "      <th>1</th>\n",
       "      <td>0.476470</td>\n",
       "      <td>0.475775</td>\n",
       "      <td>1</td>\n",
       "    </tr>\n",
       "    <tr>\n",
       "      <th>2</th>\n",
       "      <td>0.477847</td>\n",
       "      <td>0.488704</td>\n",
       "      <td>2</td>\n",
       "    </tr>\n",
       "    <tr>\n",
       "      <th>3</th>\n",
       "      <td>0.479338</td>\n",
       "      <td>0.479284</td>\n",
       "      <td>3</td>\n",
       "    </tr>\n",
       "    <tr>\n",
       "      <th>4</th>\n",
       "      <td>0.477584</td>\n",
       "      <td>0.491234</td>\n",
       "      <td>4</td>\n",
       "    </tr>\n",
       "    <tr>\n",
       "      <th>...</th>\n",
       "      <td>...</td>\n",
       "      <td>...</td>\n",
       "      <td>...</td>\n",
       "    </tr>\n",
       "    <tr>\n",
       "      <th>95</th>\n",
       "      <td>0.477125</td>\n",
       "      <td>0.480600</td>\n",
       "      <td>95</td>\n",
       "    </tr>\n",
       "    <tr>\n",
       "      <th>96</th>\n",
       "      <td>0.478170</td>\n",
       "      <td>0.479135</td>\n",
       "      <td>96</td>\n",
       "    </tr>\n",
       "    <tr>\n",
       "      <th>97</th>\n",
       "      <td>0.477161</td>\n",
       "      <td>0.489539</td>\n",
       "      <td>97</td>\n",
       "    </tr>\n",
       "    <tr>\n",
       "      <th>98</th>\n",
       "      <td>0.477344</td>\n",
       "      <td>0.484866</td>\n",
       "      <td>98</td>\n",
       "    </tr>\n",
       "    <tr>\n",
       "      <th>99</th>\n",
       "      <td>0.482408</td>\n",
       "      <td>0.490823</td>\n",
       "      <td>99</td>\n",
       "    </tr>\n",
       "  </tbody>\n",
       "</table>\n",
       "<p>100 rows × 3 columns</p>\n",
       "</div>"
      ]
     },
     "metadata": {},
     "execution_count": 38
    }
   ],
   "metadata": {}
  },
  {
   "cell_type": "code",
   "execution_count": 40,
   "source": [
    "def plot_loss(history):\n",
    "  plt.plot(history.history['loss'], label=\"loss\")\n",
    "  plt.plot(history.history['val_loss'], label=\"val_loss\")\n",
    "  plt.ylim([0, 1])\n",
    "  plt.xlabel('Epoch')\n",
    "  plt.ylabel('Error [MPG]')\n",
    "  plt.legend()\n",
    "  plt.grid(True)\n",
    "\n",
    "plot_loss(history)"
   ],
   "outputs": [
    {
     "output_type": "display_data",
     "data": {
      "text/plain": [
       "<Figure size 432x288 with 1 Axes>"
      ],
      "image/png": "[encoded data removed]"
     },
     "metadata": {
      "needs_background": "light"
     }
    }
   ],
   "metadata": {}
  },
  {
   "cell_type": "code",
   "execution_count": 41,
   "source": [
    "test_results = {}\n",
    "test_results['eleve_model'] = eleve_model.evaluate(\n",
    "  test_features['eleve'],\n",
    "  test_labels,\n",
    "  verbose=0\n",
    ")"
   ],
   "outputs": [],
   "metadata": {}
  },
  {
   "cell_type": "code",
   "execution_count": 47,
   "source": [
    "x = tf.linspace(0,20,21)\n",
    "y = eleve_model.predict(x)"
   ],
   "outputs": [],
   "metadata": {}
  },
  {
   "cell_type": "code",
   "execution_count": 48,
   "source": [
    "def plot_eleve(x, y):\n",
    "  plt.scatter(train_features['eleve'], train_labels, label=\"Data\")\n",
    "  plt.plot(x, y, color='k', label=\"Predictions\")\n",
    "  plt.xlabel('Eleve')\n",
    "  plt.ylabel('Score')\n",
    "  plt.legend()\n",
    "\n",
    "plot_eleve(x, y)"
   ],
   "outputs": [
    {
     "output_type": "display_data",
     "data": {
      "text/plain": [
       "<Figure size 432x288 with 1 Axes>"
      ],
      "image/png": "[encoded data removed]"
     },
     "metadata": {
      "needs_background": "light"
     }
    }
   ],
   "metadata": {}
  },
  {
   "cell_type": "markdown",
   "source": [
    "## Multiple inputs"
   ],
   "metadata": {}
  },
  {
   "cell_type": "code",
   "execution_count": 49,
   "source": [
    "linear_model = tf.keras.Sequential([\n",
    "  normalizer,\n",
    "  layers.Dense(units=1)\n",
    "])"
   ],
   "outputs": [],
   "metadata": {}
  },
  {
   "cell_type": "code",
   "execution_count": 53,
   "source": [
    "linear_model.compile(\n",
    "  optimizer=tf.optimizers.Adam(learning_rate=0.1),\n",
    "  loss=\"mean_absolute_error\"\n",
    ")"
   ],
   "outputs": [],
   "metadata": {}
  },
  {
   "cell_type": "code",
   "execution_count": 55,
   "source": [
    "history = linear_model.fit(\n",
    "  train_features,\n",
    "  train_labels,\n",
    "  epochs=100,\n",
    "  verbose=0,\n",
    "  validation_split=0.2\n",
    ")"
   ],
   "outputs": [],
   "metadata": {}
  },
  {
   "cell_type": "code",
   "execution_count": 56,
   "source": [
    "plot_loss(history)"
   ],
   "outputs": [
    {
     "output_type": "display_data",
     "data": {
      "text/plain": [
       "<Figure size 432x288 with 1 Axes>"
      ],
      "image/png": "[encoded data removed]"
     },
     "metadata": {
      "needs_background": "light"
     }
    }
   ],
   "metadata": {}
  },
  {
   "cell_type": "code",
   "execution_count": 57,
   "source": [
    "test_results['linear_model'] = linear_model.evaluate(\n",
    "  test_features, test_labels, verbose=0\n",
    ")\n"
   ],
   "outputs": [],
   "metadata": {}
  },
  {
   "cell_type": "markdown",
   "source": [
    "## DNN"
   ],
   "metadata": {}
  },
  {
   "cell_type": "code",
   "execution_count": 183,
   "source": [
    "def build_and_compile_model(norm):\n",
    "  model = keras.Sequential([\n",
    "      norm,\n",
    "      layers.Dense(256, activation='relu'),\n",
    "      layers.Dense(128, activation='relu'),\n",
    "      layers.Dense(1),\n",
    "  ])\n",
    "\n",
    "  model.compile(loss='mean_absolute_error',\n",
    "                optimizer=tf.keras.optimizers.Adam(learning_rate=0.001))\n",
    "  return model"
   ],
   "outputs": [],
   "metadata": {}
  },
  {
   "cell_type": "markdown",
   "source": [
    "### One variable"
   ],
   "metadata": {}
  },
  {
   "cell_type": "code",
   "execution_count": 67,
   "source": [
    "dnn_eleve_model = build_and_compile_model(elever_normalizer)\n",
    "dnn_eleve_model.summary()"
   ],
   "outputs": [
    {
     "output_type": "stream",
     "name": "stdout",
     "text": [
      "Model: \"sequential_2\"\n",
      "_________________________________________________________________\n",
      "Layer (type)                 Output Shape              Param #   \n",
      "=================================================================\n",
      "normalization_1 (Normalizati (None, 1)                 3         \n",
      "_________________________________________________________________\n",
      "dense_2 (Dense)              (None, 64)                128       \n",
      "_________________________________________________________________\n",
      "dense_3 (Dense)              (None, 64)                4160      \n",
      "_________________________________________________________________\n",
      "dense_4 (Dense)              (None, 1)                 65        \n",
      "=================================================================\n",
      "Total params: 4,356\n",
      "Trainable params: 4,353\n",
      "Non-trainable params: 3\n",
      "_________________________________________________________________\n"
     ]
    }
   ],
   "metadata": {}
  },
  {
   "cell_type": "code",
   "execution_count": 68,
   "source": [
    "history = dnn_eleve_model.fit(\n",
    "  train_features['eleve'],\n",
    "  train_labels,\n",
    "  verbose=0,\n",
    "  validation_split=0.2,\n",
    "  epochs=100\n",
    ")"
   ],
   "outputs": [],
   "metadata": {}
  },
  {
   "cell_type": "code",
   "execution_count": 69,
   "source": [
    "plot_loss(history)"
   ],
   "outputs": [
    {
     "output_type": "display_data",
     "data": {
      "text/plain": [
       "<Figure size 432x288 with 1 Axes>"
      ],
      "image/png": "[encoded data removed]"
     },
     "metadata": {
      "needs_background": "light"
     }
    }
   ],
   "metadata": {}
  },
  {
   "cell_type": "code",
   "execution_count": 70,
   "source": [
    "x = tf.linspace(0,20,21)\n",
    "y = dnn_eleve_model.predict(x)"
   ],
   "outputs": [],
   "metadata": {}
  },
  {
   "cell_type": "code",
   "execution_count": 71,
   "source": [
    "plot_eleve(x,y)"
   ],
   "outputs": [
    {
     "output_type": "display_data",
     "data": {
      "text/plain": [
       "<Figure size 432x288 with 1 Axes>"
      ],
      "image/png": "[encoded data removed]"
     },
     "metadata": {
      "needs_background": "light"
     }
    }
   ],
   "metadata": {}
  },
  {
   "cell_type": "code",
   "execution_count": 72,
   "source": [
    "test_results['dnn_eleve_model'] = dnn_eleve_model.evaluate(\n",
    "  test_features['eleve'],\n",
    "  test_labels,\n",
    "  verbose=0\n",
    ")"
   ],
   "outputs": [],
   "metadata": {}
  },
  {
   "cell_type": "markdown",
   "source": [
    "### Full model"
   ],
   "metadata": {}
  },
  {
   "cell_type": "code",
   "execution_count": 173,
   "source": [
    "dnn_model = build_and_compile_model(normalizer)\n",
    "dnn_model.summary()"
   ],
   "outputs": [
    {
     "output_type": "stream",
     "name": "stdout",
     "text": [
      "Model: \"sequential_10\"\n",
      "_________________________________________________________________\n",
      "Layer (type)                 Output Shape              Param #   \n",
      "=================================================================\n",
      "normalization (Normalization (None, 4)                 9         \n",
      "_________________________________________________________________\n",
      "dense_26 (Dense)             (None, 16)                80        \n",
      "_________________________________________________________________\n",
      "dense_27 (Dense)             (None, 256)               4352      \n",
      "_________________________________________________________________\n",
      "dense_28 (Dense)             (None, 1)                 257       \n",
      "=================================================================\n",
      "Total params: 4,698\n",
      "Trainable params: 4,689\n",
      "Non-trainable params: 9\n",
      "_________________________________________________________________\n"
     ]
    }
   ],
   "metadata": {}
  },
  {
   "cell_type": "code",
   "execution_count": 174,
   "source": [
    "history = dnn_model.fit(\n",
    "  train_features,\n",
    "  train_labels,\n",
    "  validation_split=0.2,\n",
    "  epochs=100,\n",
    "  verbose=0,\n",
    ")"
   ],
   "outputs": [],
   "metadata": {}
  },
  {
   "cell_type": "code",
   "execution_count": 175,
   "source": [
    "plot_loss(history)"
   ],
   "outputs": [
    {
     "output_type": "display_data",
     "data": {
      "text/plain": [
       "<Figure size 432x288 with 1 Axes>"
      ],
      "image/png": "[encoded data removed]"
     },
     "metadata": {
      "needs_background": "light"
     }
    }
   ],
   "metadata": {}
  },
  {
   "cell_type": "code",
   "execution_count": 176,
   "source": [
    "history.history['loss'][-1]"
   ],
   "outputs": [
    {
     "output_type": "execute_result",
     "data": {
      "text/plain": [
       "0.2597724199295044"
      ]
     },
     "metadata": {},
     "execution_count": 176
    }
   ],
   "metadata": {}
  },
  {
   "cell_type": "code",
   "execution_count": 177,
   "source": [
    "test_results['dnn_model'] = dnn_model.evaluate(\n",
    "  test_features,\n",
    "  test_labels,\n",
    "  verbose=0\n",
    ")"
   ],
   "outputs": [],
   "metadata": {}
  },
  {
   "cell_type": "markdown",
   "source": [
    "## Performance"
   ],
   "metadata": {}
  },
  {
   "cell_type": "code",
   "execution_count": 178,
   "source": [
    "pd.DataFrame(test_results, index=[\"Mean absolute error\"]).T"
   ],
   "outputs": [
    {
     "output_type": "execute_result",
     "data": {
      "text/plain": [
       "                 Mean absolute error\n",
       "eleve_model                 0.497202\n",
       "linear_model                0.365962\n",
       "dnn_eleve_model             0.451297\n",
       "dnn_model                   0.268203"
      ],
      "text/html": [
       "<div>\n",
       "<style scoped>\n",
       "    .dataframe tbody tr th:only-of-type {\n",
       "        vertical-align: middle;\n",
       "    }\n",
       "\n",
       "    .dataframe tbody tr th {\n",
       "        vertical-align: top;\n",
       "    }\n",
       "\n",
       "    .dataframe thead th {\n",
       "        text-align: right;\n",
       "    }\n",
       "</style>\n",
       "<table border=\"1\" class=\"dataframe\">\n",
       "  <thead>\n",
       "    <tr style=\"text-align: right;\">\n",
       "      <th></th>\n",
       "      <th>Mean absolute error</th>\n",
       "    </tr>\n",
       "  </thead>\n",
       "  <tbody>\n",
       "    <tr>\n",
       "      <th>eleve_model</th>\n",
       "      <td>0.497202</td>\n",
       "    </tr>\n",
       "    <tr>\n",
       "      <th>linear_model</th>\n",
       "      <td>0.365962</td>\n",
       "    </tr>\n",
       "    <tr>\n",
       "      <th>dnn_eleve_model</th>\n",
       "      <td>0.451297</td>\n",
       "    </tr>\n",
       "    <tr>\n",
       "      <th>dnn_model</th>\n",
       "      <td>0.268203</td>\n",
       "    </tr>\n",
       "  </tbody>\n",
       "</table>\n",
       "</div>"
      ]
     },
     "metadata": {},
     "execution_count": 178
    }
   ],
   "metadata": {}
  },
  {
   "cell_type": "code",
   "execution_count": 179,
   "source": [
    "test_predictions = dnn_model.predict(test_features).flatten()\n",
    "\n",
    "a = plt.axes(aspect='equal')\n",
    "plt.scatter(test_labels, test_predictions)\n",
    "plt.xlabel('True Values [MPG]')\n",
    "plt.ylabel('Predictions [MPG]')\n",
    "lims = [0, 6]\n",
    "plt.xlim(lims)\n",
    "plt.ylim(lims)\n",
    "_ = plt.plot(lims, lims)\n"
   ],
   "outputs": [
    {
     "output_type": "display_data",
     "data": {
      "text/plain": [
       "<Figure size 432x288 with 1 Axes>"
      ],
      "image/png": "[encoded data removed]"
     },
     "metadata": {
      "needs_background": "light"
     }
    }
   ],
   "metadata": {}
  },
  {
   "cell_type": "code",
   "execution_count": 180,
   "source": [
    "error = test_predictions - test_labels\n",
    "plt.hist(error, bins=25)\n",
    "plt.xlabel('Prediction Error [MPG]')\n",
    "_ = plt.ylabel('Count')\n"
   ],
   "outputs": [
    {
     "output_type": "display_data",
     "data": {
      "text/plain": [
       "<Figure size 432x288 with 1 Axes>"
      ],
      "image/png": "[encoded data removed]"
     },
     "metadata": {
      "needs_background": "light"
     }
    }
   ],
   "metadata": {}
  },
  {
   "cell_type": "markdown",
   "source": [
    "## Test against rounded values"
   ],
   "metadata": {}
  },
  {
   "cell_type": "code",
   "execution_count": 181,
   "source": [
    "df_expanded = train_df.loc[train_features.index]\n",
    "df_expanded['prediction'] = pd.DataFrame(dnn_model.predict(train_features))\n",
    "df_expanded.dropna(inplace=True)\n",
    "df_expanded['prediction_semi'] = df_expanded['prediction'].apply(lambda x: round(x * 2) / 2)\n",
    "df_expanded['prediction_rounded'] = df_expanded['prediction'].apply(lambda x: round(x))\n",
    "df_expanded.head(2)"
   ],
   "outputs": [
    {
     "output_type": "execute_result",
     "data": {
      "text/plain": [
       "      eleve  classe    min   max  \\\n",
       "5396  14.20   11.62   2.90  19.8   \n",
       "1270  11.83   13.76  10.37  17.3   \n",
       "\n",
       "                                            commentaire  label  accuracy  \\\n",
       "5396  Après un démarrage difficile tant du point de ...      3  0.457616   \n",
       "1270  Après un début de trimestre difficile, les rés...      4  0.495505   \n",
       "\n",
       "        skew     delta     scale   location     shape  stars  score  \\\n",
       "5396  0.1350  0.704804  2.418679  10.259850  0.993519      5    4.0   \n",
       "1270 -0.0375 -0.508339  2.188058  14.647468 -0.590298      2    3.0   \n",
       "\n",
       "      rounded_score  prediction  prediction_semi  prediction_rounded  \n",
       "5396              4    4.810272              5.0                   5  \n",
       "1270              3    1.550767              1.5                   2  "
      ],
      "text/html": [
       "<div>\n",
       "<style scoped>\n",
       "    .dataframe tbody tr th:only-of-type {\n",
       "        vertical-align: middle;\n",
       "    }\n",
       "\n",
       "    .dataframe tbody tr th {\n",
       "        vertical-align: top;\n",
       "    }\n",
       "\n",
       "    .dataframe thead th {\n",
       "        text-align: right;\n",
       "    }\n",
       "</style>\n",
       "<table border=\"1\" class=\"dataframe\">\n",
       "  <thead>\n",
       "    <tr style=\"text-align: right;\">\n",
       "      <th></th>\n",
       "      <th>eleve</th>\n",
       "      <th>classe</th>\n",
       "      <th>min</th>\n",
       "      <th>max</th>\n",
       "      <th>commentaire</th>\n",
       "      <th>label</th>\n",
       "      <th>accuracy</th>\n",
       "      <th>skew</th>\n",
       "      <th>delta</th>\n",
       "      <th>scale</th>\n",
       "      <th>location</th>\n",
       "      <th>shape</th>\n",
       "      <th>stars</th>\n",
       "      <th>score</th>\n",
       "      <th>rounded_score</th>\n",
       "      <th>prediction</th>\n",
       "      <th>prediction_semi</th>\n",
       "      <th>prediction_rounded</th>\n",
       "    </tr>\n",
       "  </thead>\n",
       "  <tbody>\n",
       "    <tr>\n",
       "      <th>5396</th>\n",
       "      <td>14.20</td>\n",
       "      <td>11.62</td>\n",
       "      <td>2.90</td>\n",
       "      <td>19.8</td>\n",
       "      <td>Après un démarrage difficile tant du point de ...</td>\n",
       "      <td>3</td>\n",
       "      <td>0.457616</td>\n",
       "      <td>0.1350</td>\n",
       "      <td>0.704804</td>\n",
       "      <td>2.418679</td>\n",
       "      <td>10.259850</td>\n",
       "      <td>0.993519</td>\n",
       "      <td>5</td>\n",
       "      <td>4.0</td>\n",
       "      <td>4</td>\n",
       "      <td>4.810272</td>\n",
       "      <td>5.0</td>\n",
       "      <td>5</td>\n",
       "    </tr>\n",
       "    <tr>\n",
       "      <th>1270</th>\n",
       "      <td>11.83</td>\n",
       "      <td>13.76</td>\n",
       "      <td>10.37</td>\n",
       "      <td>17.3</td>\n",
       "      <td>Après un début de trimestre difficile, les rés...</td>\n",
       "      <td>4</td>\n",
       "      <td>0.495505</td>\n",
       "      <td>-0.0375</td>\n",
       "      <td>-0.508339</td>\n",
       "      <td>2.188058</td>\n",
       "      <td>14.647468</td>\n",
       "      <td>-0.590298</td>\n",
       "      <td>2</td>\n",
       "      <td>3.0</td>\n",
       "      <td>3</td>\n",
       "      <td>1.550767</td>\n",
       "      <td>1.5</td>\n",
       "      <td>2</td>\n",
       "    </tr>\n",
       "  </tbody>\n",
       "</table>\n",
       "</div>"
      ]
     },
     "metadata": {},
     "execution_count": 181
    }
   ],
   "metadata": {}
  },
  {
   "cell_type": "code",
   "execution_count": 182,
   "source": [
    "# The performance against the score / label is not great\n",
    "abs(df_expanded['label'] - df_expanded['prediction_rounded']).describe()"
   ],
   "outputs": [
    {
     "output_type": "execute_result",
     "data": {
      "text/plain": [
       "count    4456.000000\n",
       "mean        1.146768\n",
       "std         0.922838\n",
       "min         0.000000\n",
       "25%         0.000000\n",
       "50%         1.000000\n",
       "75%         2.000000\n",
       "max         4.000000\n",
       "dtype: float64"
      ]
     },
     "metadata": {},
     "execution_count": 182
    }
   ],
   "metadata": {}
  },
  {
   "cell_type": "code",
   "execution_count": 95,
   "source": [
    "# Save\n",
    "dnn_model.save('dnn_model')"
   ],
   "outputs": [
    {
     "output_type": "stream",
     "name": "stdout",
     "text": [
      "INFO:tensorflow:Assets written to: dnn_model/assets\n"
     ]
    }
   ],
   "metadata": {}
  },
  {
   "cell_type": "code",
   "execution_count": null,
   "source": [
    "# Load\n",
    "reloaded = tf.keras.models.load_model('dnn_model')\n"
   ],
   "outputs": [],
   "metadata": {}
  }
 ],
 "metadata": {
  "orig_nbformat": 4,
  "language_info": {
   "name": "python",
   "version": "3.9.6",
   "mimetype": "text/x-python",
   "codemirror_mode": {
    "name": "ipython",
    "version": 3
   },
   "pygments_lexer": "ipython3",
   "nbconvert_exporter": "python",
   "file_extension": ".py"
  },
  "kernelspec": {
   "name": "python3",
   "display_name": "Python 3.9.6 64-bit"
  },
  "interpreter": {
   "hash": "aee8b7b246df8f9039afb4144a1f6fd8d2ca17a180786b69acc140d282b71a49"
  }
 },
 "nbformat": 4,
 "nbformat_minor": 2
}