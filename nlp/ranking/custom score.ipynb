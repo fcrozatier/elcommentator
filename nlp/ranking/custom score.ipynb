{
 "cells": [
  {
   "cell_type": "code",
   "execution_count": 1,
   "source": [
    "import pandas as pd\n",
    "from scipy.optimize import minimize\n",
    "from scipy.linalg import norm\n",
    "import matplotlib.pyplot as plt"
   ],
   "outputs": [],
   "metadata": {}
  },
  {
   "cell_type": "code",
   "execution_count": 2,
   "source": [
    "df = pd.read_csv('./bert_and_skew_stars_clean.csv')"
   ],
   "outputs": [],
   "metadata": {}
  },
  {
   "cell_type": "markdown",
   "source": [
    "## Creating a custom score"
   ],
   "metadata": {}
  },
  {
   "cell_type": "markdown",
   "source": [
    "Let's create a custom score based on number of labels and stars. It should be a convex linear combination of the two and minimize the distance to both."
   ],
   "metadata": {}
  },
  {
   "cell_type": "code",
   "execution_count": 15,
   "source": [
    "v1 = df['stars']\n",
    "v2 = df['label']"
   ],
   "outputs": [],
   "metadata": {}
  },
  {
   "cell_type": "code",
   "execution_count": 44,
   "source": [
    "def scalar_func(x):\n",
    "  u = (x[0] * v1 + x[1] * v2)\n",
    "  return norm(v1 - u)**2 + norm(v2 - u)**2"
   ],
   "outputs": [],
   "metadata": {}
  },
  {
   "cell_type": "code",
   "execution_count": 46,
   "source": [
    "minimize(scalar_func, \n",
    "        [0.4, 0.4], \n",
    "        bounds=((0,1), (0,1)), \n",
    "        constraints=({'type': 'eq', 'fun': lambda x: x[0] + x[1] - 1},)\n",
    ")"
   ],
   "outputs": [
    {
     "output_type": "execute_result",
     "data": {
      "text/plain": [
       "     fun: 4469.5\n",
       "     jac: array([0.00256348, 0.00292969])\n",
       " message: 'Optimization terminated successfully'\n",
       "    nfev: 10\n",
       "     nit: 3\n",
       "    njev: 3\n",
       "  status: 0\n",
       " success: True\n",
       "       x: array([0.5, 0.5])"
      ]
     },
     "metadata": {},
     "execution_count": 46
    }
   ],
   "metadata": {}
  },
  {
   "cell_type": "markdown",
   "source": [
    "## Conclusion"
   ],
   "metadata": {}
  },
  {
   "cell_type": "markdown",
   "source": [
    "The score should be 0.5 * label + 0.5 * stars"
   ],
   "metadata": {}
  },
  {
   "cell_type": "code",
   "execution_count": 55,
   "source": [
    "# Rename current score column to accuracy\n",
    "df.rename(columns={'score': 'accuracy'}, inplace=True)\n",
    "df.head(3)"
   ],
   "outputs": [
    {
     "output_type": "execute_result",
     "data": {
      "text/plain": [
       "   eleve  classe    min   max  \\\n",
       "0   17.8   14.28   8.30  17.8   \n",
       "1   15.0   14.51  11.00  19.5   \n",
       "2   10.6   10.87   5.47  16.7   \n",
       "\n",
       "                                         commentaire  label  accuracy    skew  \\\n",
       "0     Un excellent début d'année, poursuivez ainsi !      5  0.756478  0.6150   \n",
       "1                                      Bon ensemble.      4  0.489843 -0.3700   \n",
       "2  Résultats corrects mais le comportement en cla...      3  0.775267 -0.1075   \n",
       "\n",
       "      delta     scale   location     shape  stars  \n",
       "0  0.937612  3.013959  12.025239  2.696742      5  \n",
       "1 -0.864044  2.761004  16.413456 -1.716358      3  \n",
       "2 -0.668329  2.364184  12.130700 -0.898454      3  "
      ],
      "text/html": [
       "<div>\n",
       "<style scoped>\n",
       "    .dataframe tbody tr th:only-of-type {\n",
       "        vertical-align: middle;\n",
       "    }\n",
       "\n",
       "    .dataframe tbody tr th {\n",
       "        vertical-align: top;\n",
       "    }\n",
       "\n",
       "    .dataframe thead th {\n",
       "        text-align: right;\n",
       "    }\n",
       "</style>\n",
       "<table border=\"1\" class=\"dataframe\">\n",
       "  <thead>\n",
       "    <tr style=\"text-align: right;\">\n",
       "      <th></th>\n",
       "      <th>eleve</th>\n",
       "      <th>classe</th>\n",
       "      <th>min</th>\n",
       "      <th>max</th>\n",
       "      <th>commentaire</th>\n",
       "      <th>label</th>\n",
       "      <th>accuracy</th>\n",
       "      <th>skew</th>\n",
       "      <th>delta</th>\n",
       "      <th>scale</th>\n",
       "      <th>location</th>\n",
       "      <th>shape</th>\n",
       "      <th>stars</th>\n",
       "    </tr>\n",
       "  </thead>\n",
       "  <tbody>\n",
       "    <tr>\n",
       "      <th>0</th>\n",
       "      <td>17.8</td>\n",
       "      <td>14.28</td>\n",
       "      <td>8.30</td>\n",
       "      <td>17.8</td>\n",
       "      <td>Un excellent début d'année, poursuivez ainsi !</td>\n",
       "      <td>5</td>\n",
       "      <td>0.756478</td>\n",
       "      <td>0.6150</td>\n",
       "      <td>0.937612</td>\n",
       "      <td>3.013959</td>\n",
       "      <td>12.025239</td>\n",
       "      <td>2.696742</td>\n",
       "      <td>5</td>\n",
       "    </tr>\n",
       "    <tr>\n",
       "      <th>1</th>\n",
       "      <td>15.0</td>\n",
       "      <td>14.51</td>\n",
       "      <td>11.00</td>\n",
       "      <td>19.5</td>\n",
       "      <td>Bon ensemble.</td>\n",
       "      <td>4</td>\n",
       "      <td>0.489843</td>\n",
       "      <td>-0.3700</td>\n",
       "      <td>-0.864044</td>\n",
       "      <td>2.761004</td>\n",
       "      <td>16.413456</td>\n",
       "      <td>-1.716358</td>\n",
       "      <td>3</td>\n",
       "    </tr>\n",
       "    <tr>\n",
       "      <th>2</th>\n",
       "      <td>10.6</td>\n",
       "      <td>10.87</td>\n",
       "      <td>5.47</td>\n",
       "      <td>16.7</td>\n",
       "      <td>Résultats corrects mais le comportement en cla...</td>\n",
       "      <td>3</td>\n",
       "      <td>0.775267</td>\n",
       "      <td>-0.1075</td>\n",
       "      <td>-0.668329</td>\n",
       "      <td>2.364184</td>\n",
       "      <td>12.130700</td>\n",
       "      <td>-0.898454</td>\n",
       "      <td>3</td>\n",
       "    </tr>\n",
       "  </tbody>\n",
       "</table>\n",
       "</div>"
      ]
     },
     "metadata": {},
     "execution_count": 55
    }
   ],
   "metadata": {}
  },
  {
   "cell_type": "code",
   "execution_count": 57,
   "source": [
    "df['score'] = 0.5 * df['label'] + 0.5 * df['stars']\n",
    "df"
   ],
   "outputs": [
    {
     "output_type": "execute_result",
     "data": {
      "text/plain": [
       "      eleve  classe    min    max  \\\n",
       "0     17.80   14.28   8.30  17.80   \n",
       "1     15.00   14.51  11.00  19.50   \n",
       "2     10.60   10.87   5.47  16.70   \n",
       "3     15.50   14.24   6.00  19.00   \n",
       "4     14.75   12.67   6.00  18.25   \n",
       "...     ...     ...    ...    ...   \n",
       "6959   6.00    9.06   0.00  19.50   \n",
       "6960  11.50    9.06   0.00  19.50   \n",
       "6961   6.00    9.06   0.00  19.50   \n",
       "6962  17.00    9.06   0.00  19.50   \n",
       "6963   8.00    9.06   0.00  19.50   \n",
       "\n",
       "                                            commentaire  label  accuracy  \\\n",
       "0        Un excellent début d'année, poursuivez ainsi !      5  0.756478   \n",
       "1                                         Bon ensemble.      4  0.489843   \n",
       "2     Résultats corrects mais le comportement en cla...      3  0.775267   \n",
       "3                      Bon trimestre. Continuez ainsi !      4  0.485216   \n",
       "4                                     Un bon trimestre.      4  0.472740   \n",
       "...                                                 ...    ...       ...   \n",
       "6959  L'ensemble, en recul, est fragile. Beaucoup de...      2  0.438044   \n",
       "6960  L'ensemble demeure honorable. Toujours beaucou...      5  0.522465   \n",
       "6961      L'ensemble demeure fragile malgré le sérieux.      2  0.501147   \n",
       "6962                         L'ensemble demeure solide.      4  0.487701   \n",
       "6963            Ensemble fragile, du sérieux néanmoins.      2  0.417107   \n",
       "\n",
       "        skew     delta     scale   location     shape  stars  score  \n",
       "0     0.6150  0.937612  3.013959  12.025239  2.696742      5    5.0  \n",
       "1    -0.3700 -0.864044  2.761004  16.413456 -1.716358      3    3.5  \n",
       "2    -0.1075 -0.668329  2.364184  12.130700 -0.898454      3    3.0  \n",
       "3     0.8700  0.983377  3.225933  11.708865  5.415736      4    4.0  \n",
       "4     0.2725  0.816924  2.637196  10.951046  1.416440      4    4.0  \n",
       "...      ...       ...       ...        ...       ...    ...    ...  \n",
       "6959 -0.3450 -0.853420  2.730942  10.919582 -1.637337      1    1.5  \n",
       "6960 -0.3450 -0.853420  2.730942  10.919582 -1.637337      5    5.0  \n",
       "6961 -0.3450 -0.853420  2.730942  10.919582 -1.637337      1    1.5  \n",
       "6962 -0.3450 -0.853420  2.730942  10.919582 -1.637337      5    4.5  \n",
       "6963 -0.3450 -0.853420  2.730942  10.919582 -1.637337      2    2.0  \n",
       "\n",
       "[6964 rows x 14 columns]"
      ],
      "text/html": [
       "<div>\n",
       "<style scoped>\n",
       "    .dataframe tbody tr th:only-of-type {\n",
       "        vertical-align: middle;\n",
       "    }\n",
       "\n",
       "    .dataframe tbody tr th {\n",
       "        vertical-align: top;\n",
       "    }\n",
       "\n",
       "    .dataframe thead th {\n",
       "        text-align: right;\n",
       "    }\n",
       "</style>\n",
       "<table border=\"1\" class=\"dataframe\">\n",
       "  <thead>\n",
       "    <tr style=\"text-align: right;\">\n",
       "      <th></th>\n",
       "      <th>eleve</th>\n",
       "      <th>classe</th>\n",
       "      <th>min</th>\n",
       "      <th>max</th>\n",
       "      <th>commentaire</th>\n",
       "      <th>label</th>\n",
       "      <th>accuracy</th>\n",
       "      <th>skew</th>\n",
       "      <th>delta</th>\n",
       "      <th>scale</th>\n",
       "      <th>location</th>\n",
       "      <th>shape</th>\n",
       "      <th>stars</th>\n",
       "      <th>score</th>\n",
       "    </tr>\n",
       "  </thead>\n",
       "  <tbody>\n",
       "    <tr>\n",
       "      <th>0</th>\n",
       "      <td>17.80</td>\n",
       "      <td>14.28</td>\n",
       "      <td>8.30</td>\n",
       "      <td>17.80</td>\n",
       "      <td>Un excellent début d'année, poursuivez ainsi !</td>\n",
       "      <td>5</td>\n",
       "      <td>0.756478</td>\n",
       "      <td>0.6150</td>\n",
       "      <td>0.937612</td>\n",
       "      <td>3.013959</td>\n",
       "      <td>12.025239</td>\n",
       "      <td>2.696742</td>\n",
       "      <td>5</td>\n",
       "      <td>5.0</td>\n",
       "    </tr>\n",
       "    <tr>\n",
       "      <th>1</th>\n",
       "      <td>15.00</td>\n",
       "      <td>14.51</td>\n",
       "      <td>11.00</td>\n",
       "      <td>19.50</td>\n",
       "      <td>Bon ensemble.</td>\n",
       "      <td>4</td>\n",
       "      <td>0.489843</td>\n",
       "      <td>-0.3700</td>\n",
       "      <td>-0.864044</td>\n",
       "      <td>2.761004</td>\n",
       "      <td>16.413456</td>\n",
       "      <td>-1.716358</td>\n",
       "      <td>3</td>\n",
       "      <td>3.5</td>\n",
       "    </tr>\n",
       "    <tr>\n",
       "      <th>2</th>\n",
       "      <td>10.60</td>\n",
       "      <td>10.87</td>\n",
       "      <td>5.47</td>\n",
       "      <td>16.70</td>\n",
       "      <td>Résultats corrects mais le comportement en cla...</td>\n",
       "      <td>3</td>\n",
       "      <td>0.775267</td>\n",
       "      <td>-0.1075</td>\n",
       "      <td>-0.668329</td>\n",
       "      <td>2.364184</td>\n",
       "      <td>12.130700</td>\n",
       "      <td>-0.898454</td>\n",
       "      <td>3</td>\n",
       "      <td>3.0</td>\n",
       "    </tr>\n",
       "    <tr>\n",
       "      <th>3</th>\n",
       "      <td>15.50</td>\n",
       "      <td>14.24</td>\n",
       "      <td>6.00</td>\n",
       "      <td>19.00</td>\n",
       "      <td>Bon trimestre. Continuez ainsi !</td>\n",
       "      <td>4</td>\n",
       "      <td>0.485216</td>\n",
       "      <td>0.8700</td>\n",
       "      <td>0.983377</td>\n",
       "      <td>3.225933</td>\n",
       "      <td>11.708865</td>\n",
       "      <td>5.415736</td>\n",
       "      <td>4</td>\n",
       "      <td>4.0</td>\n",
       "    </tr>\n",
       "    <tr>\n",
       "      <th>4</th>\n",
       "      <td>14.75</td>\n",
       "      <td>12.67</td>\n",
       "      <td>6.00</td>\n",
       "      <td>18.25</td>\n",
       "      <td>Un bon trimestre.</td>\n",
       "      <td>4</td>\n",
       "      <td>0.472740</td>\n",
       "      <td>0.2725</td>\n",
       "      <td>0.816924</td>\n",
       "      <td>2.637196</td>\n",
       "      <td>10.951046</td>\n",
       "      <td>1.416440</td>\n",
       "      <td>4</td>\n",
       "      <td>4.0</td>\n",
       "    </tr>\n",
       "    <tr>\n",
       "      <th>...</th>\n",
       "      <td>...</td>\n",
       "      <td>...</td>\n",
       "      <td>...</td>\n",
       "      <td>...</td>\n",
       "      <td>...</td>\n",
       "      <td>...</td>\n",
       "      <td>...</td>\n",
       "      <td>...</td>\n",
       "      <td>...</td>\n",
       "      <td>...</td>\n",
       "      <td>...</td>\n",
       "      <td>...</td>\n",
       "      <td>...</td>\n",
       "      <td>...</td>\n",
       "    </tr>\n",
       "    <tr>\n",
       "      <th>6959</th>\n",
       "      <td>6.00</td>\n",
       "      <td>9.06</td>\n",
       "      <td>0.00</td>\n",
       "      <td>19.50</td>\n",
       "      <td>L'ensemble, en recul, est fragile. Beaucoup de...</td>\n",
       "      <td>2</td>\n",
       "      <td>0.438044</td>\n",
       "      <td>-0.3450</td>\n",
       "      <td>-0.853420</td>\n",
       "      <td>2.730942</td>\n",
       "      <td>10.919582</td>\n",
       "      <td>-1.637337</td>\n",
       "      <td>1</td>\n",
       "      <td>1.5</td>\n",
       "    </tr>\n",
       "    <tr>\n",
       "      <th>6960</th>\n",
       "      <td>11.50</td>\n",
       "      <td>9.06</td>\n",
       "      <td>0.00</td>\n",
       "      <td>19.50</td>\n",
       "      <td>L'ensemble demeure honorable. Toujours beaucou...</td>\n",
       "      <td>5</td>\n",
       "      <td>0.522465</td>\n",
       "      <td>-0.3450</td>\n",
       "      <td>-0.853420</td>\n",
       "      <td>2.730942</td>\n",
       "      <td>10.919582</td>\n",
       "      <td>-1.637337</td>\n",
       "      <td>5</td>\n",
       "      <td>5.0</td>\n",
       "    </tr>\n",
       "    <tr>\n",
       "      <th>6961</th>\n",
       "      <td>6.00</td>\n",
       "      <td>9.06</td>\n",
       "      <td>0.00</td>\n",
       "      <td>19.50</td>\n",
       "      <td>L'ensemble demeure fragile malgré le sérieux.</td>\n",
       "      <td>2</td>\n",
       "      <td>0.501147</td>\n",
       "      <td>-0.3450</td>\n",
       "      <td>-0.853420</td>\n",
       "      <td>2.730942</td>\n",
       "      <td>10.919582</td>\n",
       "      <td>-1.637337</td>\n",
       "      <td>1</td>\n",
       "      <td>1.5</td>\n",
       "    </tr>\n",
       "    <tr>\n",
       "      <th>6962</th>\n",
       "      <td>17.00</td>\n",
       "      <td>9.06</td>\n",
       "      <td>0.00</td>\n",
       "      <td>19.50</td>\n",
       "      <td>L'ensemble demeure solide.</td>\n",
       "      <td>4</td>\n",
       "      <td>0.487701</td>\n",
       "      <td>-0.3450</td>\n",
       "      <td>-0.853420</td>\n",
       "      <td>2.730942</td>\n",
       "      <td>10.919582</td>\n",
       "      <td>-1.637337</td>\n",
       "      <td>5</td>\n",
       "      <td>4.5</td>\n",
       "    </tr>\n",
       "    <tr>\n",
       "      <th>6963</th>\n",
       "      <td>8.00</td>\n",
       "      <td>9.06</td>\n",
       "      <td>0.00</td>\n",
       "      <td>19.50</td>\n",
       "      <td>Ensemble fragile, du sérieux néanmoins.</td>\n",
       "      <td>2</td>\n",
       "      <td>0.417107</td>\n",
       "      <td>-0.3450</td>\n",
       "      <td>-0.853420</td>\n",
       "      <td>2.730942</td>\n",
       "      <td>10.919582</td>\n",
       "      <td>-1.637337</td>\n",
       "      <td>2</td>\n",
       "      <td>2.0</td>\n",
       "    </tr>\n",
       "  </tbody>\n",
       "</table>\n",
       "<p>6964 rows × 14 columns</p>\n",
       "</div>"
      ]
     },
     "metadata": {},
     "execution_count": 57
    }
   ],
   "metadata": {}
  },
  {
   "cell_type": "code",
   "execution_count": 73,
   "source": [
    "# The score and label differe by less than one for 97% of the rows, and agrees 37% of the time\n",
    "label_diff = abs(df['label']-df['score'])\n",
    "label_diff.describe(), label_diff.quantile(0.37), label_diff.quantile(0.97)"
   ],
   "outputs": [
    {
     "output_type": "execute_result",
     "data": {
      "text/plain": [
       "(count    6964.000000\n",
       " mean        0.413914\n",
       " std         0.386777\n",
       " min         0.000000\n",
       " 25%         0.000000\n",
       " 50%         0.500000\n",
       " 75%         0.500000\n",
       " max         1.500000\n",
       " dtype: float64,\n",
       " 0.0,\n",
       " 1.0)"
      ]
     },
     "metadata": {},
     "execution_count": 73
    }
   ],
   "metadata": {}
  },
  {
   "cell_type": "code",
   "execution_count": 78,
   "source": [
    "# The score and stars differe by less than one for 97% of the rows and agrees 37% of the time\n",
    "stars_diff = abs(df['stars']-df['score'])\n",
    "stars_diff.describe(), stars_diff.quantile(0.37), stars_diff.quantile(0.97)"
   ],
   "outputs": [
    {
     "output_type": "execute_result",
     "data": {
      "text/plain": [
       "(count    6964.000000\n",
       " mean        0.413914\n",
       " std         0.386777\n",
       " min         0.000000\n",
       " 25%         0.000000\n",
       " 50%         0.500000\n",
       " 75%         0.500000\n",
       " max         1.500000\n",
       " dtype: float64,\n",
       " 0.0,\n",
       " 1.0)"
      ]
     },
     "metadata": {},
     "execution_count": 78
    }
   ],
   "metadata": {}
  },
  {
   "cell_type": "code",
   "execution_count": 80,
   "source": [
    "df['score'].value_counts()"
   ],
   "outputs": [
    {
     "output_type": "execute_result",
     "data": {
      "text/plain": [
       "4.0    1159\n",
       "4.5    1027\n",
       "3.5    1011\n",
       "3.0     904\n",
       "5.0     817\n",
       "2.5     782\n",
       "2.0     619\n",
       "1.5     559\n",
       "1.0      86\n",
       "Name: score, dtype: int64"
      ]
     },
     "metadata": {},
     "execution_count": 80
    }
   ],
   "metadata": {}
  },
  {
   "cell_type": "code",
   "execution_count": 92,
   "source": [
    "# Score has a nice repartition\n",
    "fig, (ax1, ax2, ax3) = plt.subplots(1,3)\n",
    "\n",
    "df['score'].plot(kind=\"hist\", ax=ax1, figsize=(15,4), title=\"score\")\n",
    "df['label'].plot(kind=\"hist\", ax=ax2, figsize=(15,4), title=\"labels\")\n",
    "df['stars'].plot(kind=\"hist\", ax=ax3, figsize=(15,4), title=\"stars\")"
   ],
   "outputs": [
    {
     "output_type": "execute_result",
     "data": {
      "text/plain": [
       "<AxesSubplot:title={'center':'stars'}, ylabel='Frequency'>"
      ]
     },
     "metadata": {},
     "execution_count": 92
    },
    {
     "output_type": "display_data",
     "data": {
      "text/plain": [
       "<Figure size 1080x288 with 3 Axes>"
      ],
      "image/png": "[encoded data removed]"
     },
     "metadata": {
      "needs_background": "light"
     }
    }
   ],
   "metadata": {}
  },
  {
   "cell_type": "code",
   "execution_count": 103,
   "source": [
    "df['rounded_score'] = df['score'].apply(lambda x: int(x))"
   ],
   "outputs": [],
   "metadata": {}
  },
  {
   "cell_type": "code",
   "execution_count": 104,
   "source": [
    "df['rounded_score'].value_counts()"
   ],
   "outputs": [
    {
     "output_type": "execute_result",
     "data": {
      "text/plain": [
       "4    2186\n",
       "3    1915\n",
       "2    1401\n",
       "5     817\n",
       "1     645\n",
       "Name: rounded_score, dtype: int64"
      ]
     },
     "metadata": {},
     "execution_count": 104
    }
   ],
   "metadata": {}
  },
  {
   "cell_type": "code",
   "execution_count": 110,
   "source": [
    "fig, (ax1, ax2, ax3, ax4) = plt.subplots(1,4)\n",
    "\n",
    "df['score'].plot(kind=\"hist\", ax=ax1, figsize=(20,4), title=\"score\")\n",
    "df['rounded_score'].plot(kind=\"hist\", ax=ax2, figsize=(20,4), title=\"rounded score\")\n",
    "df['label'].plot(kind=\"hist\", ax=ax3, figsize=(20,4), title=\"labels\")\n",
    "df['stars'].plot(kind=\"hist\", ax=ax4, figsize=(20,4), title=\"stars\")\n"
   ],
   "outputs": [
    {
     "output_type": "execute_result",
     "data": {
      "text/plain": [
       "<AxesSubplot:title={'center':'stars'}, ylabel='Frequency'>"
      ]
     },
     "metadata": {},
     "execution_count": 110
    },
    {
     "output_type": "display_data",
     "data": {
      "text/plain": [
       "<Figure size 1440x288 with 4 Axes>"
      ],
      "image/png": "[encoded data removed]"
     },
     "metadata": {
      "needs_background": "light"
     }
    }
   ],
   "metadata": {}
  },
  {
   "cell_type": "code",
   "execution_count": 112,
   "source": [
    "df.to_csv('./custom_rounded_score.csv', index=False)"
   ],
   "outputs": [],
   "metadata": {}
  },
  {
   "cell_type": "code",
   "execution_count": 3,
   "source": [
    "df = pd.read_csv('./custom_rounded_score.csv')"
   ],
   "outputs": [],
   "metadata": {}
  },
  {
   "cell_type": "code",
   "execution_count": 5,
   "source": [
    "for i in range(1,6):\n",
    "  data = df[df['rounded_score'] == i]\n",
    "  data.to_csv(f\"./score_{i}.csv\")"
   ],
   "outputs": [],
   "metadata": {}
  },
  {
   "cell_type": "markdown",
   "source": [
    "## Creating custom 3 stars score"
   ],
   "metadata": {}
  },
  {
   "cell_type": "markdown",
   "source": [
    "5 level score means 5 models to train, which is as the same time less data to train for and more storage required."
   ],
   "metadata": {}
  },
  {
   "cell_type": "code",
   "execution_count": 5,
   "source": [
    "df.head(2)"
   ],
   "outputs": [
    {
     "output_type": "execute_result",
     "data": {
      "text/plain": [
       "   eleve  classe   min   max                                     commentaire  \\\n",
       "0   17.8   14.28   8.3  17.8  Un excellent début d'année, poursuivez ainsi !   \n",
       "1   15.0   14.51  11.0  19.5                                   Bon ensemble.   \n",
       "\n",
       "   label  accuracy   skew     delta     scale   location     shape  stars  \\\n",
       "0      5  0.756478  0.615  0.937612  3.013959  12.025239  2.696742      5   \n",
       "1      4  0.489843 -0.370 -0.864044  2.761004  16.413456 -1.716358      3   \n",
       "\n",
       "   score  rounded_score  \n",
       "0    5.0              5  \n",
       "1    3.5              3  "
      ],
      "text/html": [
       "<div>\n",
       "<style scoped>\n",
       "    .dataframe tbody tr th:only-of-type {\n",
       "        vertical-align: middle;\n",
       "    }\n",
       "\n",
       "    .dataframe tbody tr th {\n",
       "        vertical-align: top;\n",
       "    }\n",
       "\n",
       "    .dataframe thead th {\n",
       "        text-align: right;\n",
       "    }\n",
       "</style>\n",
       "<table border=\"1\" class=\"dataframe\">\n",
       "  <thead>\n",
       "    <tr style=\"text-align: right;\">\n",
       "      <th></th>\n",
       "      <th>eleve</th>\n",
       "      <th>classe</th>\n",
       "      <th>min</th>\n",
       "      <th>max</th>\n",
       "      <th>commentaire</th>\n",
       "      <th>label</th>\n",
       "      <th>accuracy</th>\n",
       "      <th>skew</th>\n",
       "      <th>delta</th>\n",
       "      <th>scale</th>\n",
       "      <th>location</th>\n",
       "      <th>shape</th>\n",
       "      <th>stars</th>\n",
       "      <th>score</th>\n",
       "      <th>rounded_score</th>\n",
       "    </tr>\n",
       "  </thead>\n",
       "  <tbody>\n",
       "    <tr>\n",
       "      <th>0</th>\n",
       "      <td>17.8</td>\n",
       "      <td>14.28</td>\n",
       "      <td>8.3</td>\n",
       "      <td>17.8</td>\n",
       "      <td>Un excellent début d'année, poursuivez ainsi !</td>\n",
       "      <td>5</td>\n",
       "      <td>0.756478</td>\n",
       "      <td>0.615</td>\n",
       "      <td>0.937612</td>\n",
       "      <td>3.013959</td>\n",
       "      <td>12.025239</td>\n",
       "      <td>2.696742</td>\n",
       "      <td>5</td>\n",
       "      <td>5.0</td>\n",
       "      <td>5</td>\n",
       "    </tr>\n",
       "    <tr>\n",
       "      <th>1</th>\n",
       "      <td>15.0</td>\n",
       "      <td>14.51</td>\n",
       "      <td>11.0</td>\n",
       "      <td>19.5</td>\n",
       "      <td>Bon ensemble.</td>\n",
       "      <td>4</td>\n",
       "      <td>0.489843</td>\n",
       "      <td>-0.370</td>\n",
       "      <td>-0.864044</td>\n",
       "      <td>2.761004</td>\n",
       "      <td>16.413456</td>\n",
       "      <td>-1.716358</td>\n",
       "      <td>3</td>\n",
       "      <td>3.5</td>\n",
       "      <td>3</td>\n",
       "    </tr>\n",
       "  </tbody>\n",
       "</table>\n",
       "</div>"
      ]
     },
     "metadata": {},
     "execution_count": 5
    }
   ],
   "metadata": {}
  },
  {
   "cell_type": "code",
   "execution_count": 6,
   "source": [
    "def custom_star(score):\n",
    "  if score <= 2:\n",
    "    return 1\n",
    "  elif score <= 3.5:\n",
    "    return 2\n",
    "  else:\n",
    "    return 3 "
   ],
   "outputs": [],
   "metadata": {}
  },
  {
   "cell_type": "code",
   "execution_count": 8,
   "source": [
    "df['custom_star'] = df['score'].apply(custom_star)"
   ],
   "outputs": [],
   "metadata": {}
  },
  {
   "cell_type": "code",
   "execution_count": 13,
   "source": [
    "df['custom_star'].value_counts()"
   ],
   "outputs": [
    {
     "output_type": "execute_result",
     "data": {
      "text/plain": [
       "3    3003\n",
       "2    2697\n",
       "1    1264\n",
       "Name: custom_star, dtype: int64"
      ]
     },
     "metadata": {},
     "execution_count": 13
    }
   ],
   "metadata": {}
  },
  {
   "cell_type": "code",
   "execution_count": 10,
   "source": [
    "df.to_csv('./custom_star.csv', index=False)"
   ],
   "outputs": [],
   "metadata": {}
  },
  {
   "cell_type": "code",
   "execution_count": null,
   "source": [],
   "outputs": [],
   "metadata": {}
  }
 ],
 "metadata": {
  "orig_nbformat": 4,
  "language_info": {
   "name": "python",
   "version": "3.9.6",
   "mimetype": "text/x-python",
   "codemirror_mode": {
    "name": "ipython",
    "version": 3
   },
   "pygments_lexer": "ipython3",
   "nbconvert_exporter": "python",
   "file_extension": ".py"
  },
  "kernelspec": {
   "name": "python3",
   "display_name": "Python 3.9.6 64-bit"
  },
  "interpreter": {
   "hash": "aee8b7b246df8f9039afb4144a1f6fd8d2ca17a180786b69acc140d282b71a49"
  }
 },
 "nbformat": 4,
 "nbformat_minor": 2
}