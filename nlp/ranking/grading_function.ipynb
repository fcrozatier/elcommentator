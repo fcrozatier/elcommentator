{
 "cells": [
  {
   "cell_type": "code",
   "execution_count": 1,
   "metadata": {},
   "outputs": [],
   "source": [
    "import numpy as np\n",
    "import pandas as pd\n",
    "from numpy.lib.scimath import sqrt\n",
    "from scipy import pi\n",
    "from scipy.stats import skewnorm\n",
    "from scipy.optimize import fsolve"
   ]
  },
  {
   "cell_type": "code",
   "execution_count": 31,
   "metadata": {},
   "outputs": [
    {
     "data": {
      "text/plain": [
       "11.313708498984761"
      ]
     },
     "execution_count": 31,
     "metadata": {},
     "output_type": "execute_result"
    }
   ],
   "source": [
    "np.power(2,3.5)"
   ]
  },
  {
   "cell_type": "code",
   "execution_count": 17,
   "metadata": {},
   "outputs": [],
   "source": [
    "# Strip custom rounded score file\n",
    "df = pd.read_csv('./custom_rounded_score.csv')\n",
    "df = df[['commentaire', 'score']]\n",
    "df.to_csv('./custom_score_striped.csv', index=False)"
   ]
  },
  {
   "cell_type": "code",
   "execution_count": 2,
   "metadata": {},
   "outputs": [],
   "source": [
    "# See skew distribution notebook for details\n",
    "student_grade = 17.80\n",
    "mean_grade = 14.28\n",
    "min_grade = 8.30\n",
    "max_grade = 17.8\n",
    "STD = 2"
   ]
  },
  {
   "cell_type": "code",
   "execution_count": 3,
   "metadata": {},
   "outputs": [],
   "source": [
    "def grade(student, mean, minimum, maximum):\n",
    "  # delta\n",
    "  skew = (mean - (maximum + minimum)/2) / STD\n",
    "\n",
    "  func = lambda delta: skew - ((4 - pi)/2) * ((delta * sqrt(2/pi))**3) / (np.power(1 - (2 * delta**2) / pi, 3/2))\n",
    "\n",
    "  delta_guess = 1\n",
    "  delta_solution = fsolve(func, delta_guess)\n",
    "  delta = delta_solution[0]\n",
    "\n",
    "  # w (scale)\n",
    "  w = STD / sqrt(1 - 2 * delta**2 / pi)\n",
    "\n",
    "  # e (location)\n",
    "  e = mean - w * delta * sqrt(2 / pi)\n",
    "\n",
    "  # a (shape)\n",
    "  if np.abs(delta) < 1:\n",
    "    a = np.real(delta / sqrt(1 - delta**2))\n",
    "  else:\n",
    "    a = -np.imag(delta / sqrt(1 - delta**2))\n",
    "\n",
    "  real_score = skewnorm.cdf(student, a, e, w)\n",
    "\n",
    "  int_score = np.ceil(real_score * 9)  # sample real score by int from 1 to 9\n",
    "  grade = (int_score - 1) / 2 + 1 # give grade between 1 and 5 (half integers)\n",
    "  \n",
    "  return grade"
   ]
  },
  {
   "cell_type": "code",
   "execution_count": 26,
   "metadata": {},
   "outputs": [],
   "source": [
    "def comment(student, mean, minimum, maximum):\n",
    "  score = grade(student, mean, minimum, maximum)\n",
    "\n",
    "  df = pd.read_csv('./custom_score_striped.csv')\n",
    "  df = df.loc[df['score'] == score, \"commentaire\"]\n",
    "\n",
    "  return list(df.sample(1))"
   ]
  },
  {
   "cell_type": "code",
   "execution_count": 27,
   "metadata": {},
   "outputs": [],
   "source": [
    "score = 5"
   ]
  },
  {
   "cell_type": "code",
   "execution_count": 29,
   "metadata": {},
   "outputs": [
    {
     "data": {
      "text/plain": [
       "['Bon trimestre. Elève sérieuse et attentive. Continuez à consolider vos bases en compréhension de lecture.']"
      ]
     },
     "execution_count": 29,
     "metadata": {},
     "output_type": "execute_result"
    }
   ],
   "source": [
    "comment(14, 12, 5, 15)"
   ]
  },
  {
   "cell_type": "code",
   "execution_count": null,
   "metadata": {},
   "outputs": [],
   "source": []
  }
 ],
 "metadata": {
  "interpreter": {
   "hash": "aee8b7b246df8f9039afb4144a1f6fd8d2ca17a180786b69acc140d282b71a49"
  },
  "kernelspec": {
   "display_name": "Python 3.9.6 64-bit",
   "name": "python3"
  },
  "language_info": {
   "codemirror_mode": {
    "name": "ipython",
    "version": 3
   },
   "file_extension": ".py",
   "mimetype": "text/x-python",
   "name": "python",
   "nbconvert_exporter": "python",
   "pygments_lexer": "ipython3",
   "version": "3.9.8"
  },
  "orig_nbformat": 4
 },
 "nbformat": 4,
 "nbformat_minor": 2
}
