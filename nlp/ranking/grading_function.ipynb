{
 "cells": [
  {
   "cell_type": "code",
   "execution_count": 1,
   "source": [
    "import numpy as np\n",
    "import pandas as pd\n",
    "from numpy.lib.scimath import sqrt\n",
    "from scipy import pi\n",
    "from scipy.stats import skewnorm\n",
    "from scipy.optimize import fsolve"
   ],
   "outputs": [],
   "metadata": {}
  },
  {
   "cell_type": "code",
   "execution_count": 31,
   "source": [
    "np.power(2,3.5)"
   ],
   "outputs": [
    {
     "output_type": "execute_result",
     "data": {
      "text/plain": [
       "11.313708498984761"
      ]
     },
     "metadata": {},
     "execution_count": 31
    }
   ],
   "metadata": {}
  },
  {
   "cell_type": "code",
   "execution_count": 17,
   "source": [
    "# Strip custom rounded score file\n",
    "df = pd.read_csv('./custom_rounded_score.csv')\n",
    "df = df[['commentaire', 'score']]\n",
    "df.to_csv('./custom_score_striped.csv', index=False)"
   ],
   "outputs": [],
   "metadata": {}
  },
  {
   "cell_type": "code",
   "execution_count": 2,
   "source": [
    "# See skew distribution notebook for details\n",
    "student_grade = 17.80\n",
    "mean_grade = 14.28\n",
    "min_grade = 8.30\n",
    "max_grade = 17.8\n",
    "STD = 2"
   ],
   "outputs": [],
   "metadata": {}
  },
  {
   "cell_type": "code",
   "execution_count": 3,
   "source": [
    "def grade(student, mean, minimum, maximum):\n",
    "  # delta\n",
    "  skew = (mean - (maximum + minimum)/2) / STD\n",
    "\n",
    "  func = lambda delta: skew - ((4 - pi)/2) * ((delta * sqrt(2/pi))**3) / (np.power(1 - (2 * delta**2) / pi, 3/2))\n",
    "\n",
    "  delta_guess = 1\n",
    "  delta_solution = fsolve(func, delta_guess)\n",
    "  delta = delta_solution[0]\n",
    "\n",
    "  # w (scale)\n",
    "  w = STD / sqrt(1 - 2 * delta**2 / pi)\n",
    "\n",
    "  # e (location)\n",
    "  e = mean - w * delta * sqrt(2 / pi)\n",
    "\n",
    "  # a (shape)\n",
    "  if np.abs(delta) < 1:\n",
    "    a = np.real(delta / sqrt(1 - delta**2))\n",
    "  else:\n",
    "    a = -np.imag(delta / sqrt(1 - delta**2))\n",
    "\n",
    "  real_score = skewnorm.cdf(student, a, e, w)\n",
    "\n",
    "  int_score = np.ceil(real_score * 9)  # sample real score by int from 1 to 9\n",
    "  grade = (int_score - 1) / 2 + 1 # give grade between 1 and 5 (half integers)\n",
    "  \n",
    "  return grade"
   ],
   "outputs": [],
   "metadata": {}
  },
  {
   "cell_type": "code",
   "execution_count": 26,
   "source": [
    "def comment(student, mean, minimum, maximum):\n",
    "  score = grade(student, mean, minimum, maximum)\n",
    "\n",
    "  df = pd.read_csv('./custom_score_striped.csv')\n",
    "  df = df.loc[df['score'] == score, \"commentaire\"]\n",
    "\n",
    "  return list(df.sample(1))"
   ],
   "outputs": [],
   "metadata": {}
  },
  {
   "cell_type": "code",
   "execution_count": 27,
   "source": [
    "score = 5"
   ],
   "outputs": [],
   "metadata": {}
  },
  {
   "cell_type": "code",
   "execution_count": 29,
   "source": [
    "comment(14, 12, 5, 15)"
   ],
   "outputs": [
    {
     "output_type": "execute_result",
     "data": {
      "text/plain": [
       "['Bon trimestre. Elève sérieuse et attentive. Continuez à consolider vos bases en compréhension de lecture.']"
      ]
     },
     "metadata": {},
     "execution_count": 29
    }
   ],
   "metadata": {}
  },
  {
   "cell_type": "code",
   "execution_count": null,
   "source": [],
   "outputs": [],
   "metadata": {}
  }
 ],
 "metadata": {
  "orig_nbformat": 4,
  "language_info": {
   "name": "python",
   "version": "3.9.6",
   "mimetype": "text/x-python",
   "codemirror_mode": {
    "name": "ipython",
    "version": 3
   },
   "pygments_lexer": "ipython3",
   "nbconvert_exporter": "python",
   "file_extension": ".py"
  },
  "kernelspec": {
   "name": "python3",
   "display_name": "Python 3.9.6 64-bit"
  },
  "interpreter": {
   "hash": "aee8b7b246df8f9039afb4144a1f6fd8d2ca17a180786b69acc140d282b71a49"
  }
 },
 "nbformat": 4,
 "nbformat_minor": 2
}