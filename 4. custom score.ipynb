{
 "cells": [
  {
   "cell_type": "code",
   "execution_count": 1,
   "metadata": {},
   "outputs": [],
   "source": [
    "import os\n",
    "from dotenv import load_dotenv\n",
    "\n",
    "import pandas as pd\n",
    "from scipy.optimize import minimize\n",
    "from scipy.linalg import norm\n",
    "import matplotlib.pyplot as plt"
   ]
  },
  {
   "cell_type": "code",
   "execution_count": 2,
   "metadata": {},
   "outputs": [
    {
     "data": {
      "text/plain": [
       "True"
      ]
     },
     "execution_count": 2,
     "metadata": {},
     "output_type": "execute_result"
    }
   ],
   "source": [
    "load_dotenv()"
   ]
  },
  {
   "cell_type": "code",
   "execution_count": 3,
   "metadata": {},
   "outputs": [
    {
     "data": {
      "text/plain": [
       "2020"
      ]
     },
     "execution_count": 3,
     "metadata": {},
     "output_type": "execute_result"
    }
   ],
   "source": [
    "year = int(os.getenv(\"YEAR\"))\n",
    "year"
   ]
  },
  {
   "cell_type": "code",
   "execution_count": 4,
   "metadata": {},
   "outputs": [],
   "source": [
    "df = pd.read_csv(f'./out/{year}/data_clean_bert_skew_distrib_stars.csv')"
   ]
  },
  {
   "cell_type": "markdown",
   "metadata": {},
   "source": [
    "## Creating a custom score"
   ]
  },
  {
   "cell_type": "markdown",
   "metadata": {},
   "source": [
    "Let's create a custom score based on number of labels and stars. It should be a convex linear combination of the two and minimize the distance to both."
   ]
  },
  {
   "cell_type": "code",
   "execution_count": 5,
   "metadata": {},
   "outputs": [],
   "source": [
    "v1 = df['stars']\n",
    "v2 = df['label']"
   ]
  },
  {
   "cell_type": "code",
   "execution_count": 6,
   "metadata": {},
   "outputs": [],
   "source": [
    "def scalar_func(x):\n",
    "  u = (x[0] * v1 + x[1] * v2)\n",
    "  return norm(v1 - u)**2 + norm(v2 - u)**2"
   ]
  },
  {
   "cell_type": "code",
   "execution_count": 7,
   "metadata": {},
   "outputs": [
    {
     "data": {
      "text/plain": [
       "     fun: 4253.0\n",
       "     jac: array([0.00244141, 0.00268555])\n",
       " message: 'Optimization terminated successfully'\n",
       "    nfev: 10\n",
       "     nit: 3\n",
       "    njev: 3\n",
       "  status: 0\n",
       " success: True\n",
       "       x: array([0.5, 0.5])"
      ]
     },
     "execution_count": 7,
     "metadata": {},
     "output_type": "execute_result"
    }
   ],
   "source": [
    "minimize(scalar_func, \n",
    "        [0.4, 0.4], \n",
    "        bounds=((0,1), (0,1)), \n",
    "        constraints=({'type': 'eq', 'fun': lambda x: x[0] + x[1] - 1},)\n",
    ")"
   ]
  },
  {
   "cell_type": "markdown",
   "metadata": {},
   "source": [
    "## Conclusion"
   ]
  },
  {
   "cell_type": "markdown",
   "metadata": {},
   "source": [
    "The score should be 0.5 * label + 0.5 * stars"
   ]
  },
  {
   "cell_type": "code",
   "execution_count": 8,
   "metadata": {},
   "outputs": [
    {
     "data": {
      "text/html": [
       "<div>\n",
       "<style scoped>\n",
       "    .dataframe tbody tr th:only-of-type {\n",
       "        vertical-align: middle;\n",
       "    }\n",
       "\n",
       "    .dataframe tbody tr th {\n",
       "        vertical-align: top;\n",
       "    }\n",
       "\n",
       "    .dataframe thead th {\n",
       "        text-align: right;\n",
       "    }\n",
       "</style>\n",
       "<table border=\"1\" class=\"dataframe\">\n",
       "  <thead>\n",
       "    <tr style=\"text-align: right;\">\n",
       "      <th></th>\n",
       "      <th>Unnamed: 0</th>\n",
       "      <th>eleve</th>\n",
       "      <th>classe</th>\n",
       "      <th>min</th>\n",
       "      <th>max</th>\n",
       "      <th>commentaire</th>\n",
       "      <th>label</th>\n",
       "      <th>accuracy</th>\n",
       "      <th>skew</th>\n",
       "      <th>delta</th>\n",
       "      <th>scale</th>\n",
       "      <th>location</th>\n",
       "      <th>shape</th>\n",
       "      <th>stars</th>\n",
       "    </tr>\n",
       "  </thead>\n",
       "  <tbody>\n",
       "    <tr>\n",
       "      <th>0</th>\n",
       "      <td>0</td>\n",
       "      <td>17.8</td>\n",
       "      <td>14.28</td>\n",
       "      <td>8.30</td>\n",
       "      <td>17.8</td>\n",
       "      <td>Un excellent début d'année, poursuivez ainsi !</td>\n",
       "      <td>5</td>\n",
       "      <td>0.756478</td>\n",
       "      <td>0.6150</td>\n",
       "      <td>0.937612</td>\n",
       "      <td>3.013959</td>\n",
       "      <td>12.025239</td>\n",
       "      <td>2.696742</td>\n",
       "      <td>5</td>\n",
       "    </tr>\n",
       "    <tr>\n",
       "      <th>1</th>\n",
       "      <td>1</td>\n",
       "      <td>15.0</td>\n",
       "      <td>14.51</td>\n",
       "      <td>11.00</td>\n",
       "      <td>19.5</td>\n",
       "      <td>Bon ensemble.</td>\n",
       "      <td>4</td>\n",
       "      <td>0.489843</td>\n",
       "      <td>-0.3700</td>\n",
       "      <td>-0.864044</td>\n",
       "      <td>2.761004</td>\n",
       "      <td>16.413456</td>\n",
       "      <td>-1.716358</td>\n",
       "      <td>3</td>\n",
       "    </tr>\n",
       "    <tr>\n",
       "      <th>2</th>\n",
       "      <td>2</td>\n",
       "      <td>10.6</td>\n",
       "      <td>10.87</td>\n",
       "      <td>5.47</td>\n",
       "      <td>16.7</td>\n",
       "      <td>Résultats corrects mais le comportement en cla...</td>\n",
       "      <td>3</td>\n",
       "      <td>0.775267</td>\n",
       "      <td>-0.1075</td>\n",
       "      <td>-0.668329</td>\n",
       "      <td>2.364184</td>\n",
       "      <td>12.130700</td>\n",
       "      <td>-0.898454</td>\n",
       "      <td>3</td>\n",
       "    </tr>\n",
       "  </tbody>\n",
       "</table>\n",
       "</div>"
      ],
      "text/plain": [
       "   Unnamed: 0  eleve  classe    min   max  \\\n",
       "0           0   17.8   14.28   8.30  17.8   \n",
       "1           1   15.0   14.51  11.00  19.5   \n",
       "2           2   10.6   10.87   5.47  16.7   \n",
       "\n",
       "                                         commentaire  label  accuracy    skew  \\\n",
       "0     Un excellent début d'année, poursuivez ainsi !      5  0.756478  0.6150   \n",
       "1                                      Bon ensemble.      4  0.489843 -0.3700   \n",
       "2  Résultats corrects mais le comportement en cla...      3  0.775267 -0.1075   \n",
       "\n",
       "      delta     scale   location     shape  stars  \n",
       "0  0.937612  3.013959  12.025239  2.696742      5  \n",
       "1 -0.864044  2.761004  16.413456 -1.716358      3  \n",
       "2 -0.668329  2.364184  12.130700 -0.898454      3  "
      ]
     },
     "execution_count": 8,
     "metadata": {},
     "output_type": "execute_result"
    }
   ],
   "source": [
    "# Rename current score column to accuracy\n",
    "df.rename(columns={'score': 'accuracy'}, inplace=True)\n",
    "df.head(3)"
   ]
  },
  {
   "cell_type": "code",
   "execution_count": 9,
   "metadata": {},
   "outputs": [
    {
     "data": {
      "text/html": [
       "<div>\n",
       "<style scoped>\n",
       "    .dataframe tbody tr th:only-of-type {\n",
       "        vertical-align: middle;\n",
       "    }\n",
       "\n",
       "    .dataframe tbody tr th {\n",
       "        vertical-align: top;\n",
       "    }\n",
       "\n",
       "    .dataframe thead th {\n",
       "        text-align: right;\n",
       "    }\n",
       "</style>\n",
       "<table border=\"1\" class=\"dataframe\">\n",
       "  <thead>\n",
       "    <tr style=\"text-align: right;\">\n",
       "      <th></th>\n",
       "      <th>Unnamed: 0</th>\n",
       "      <th>eleve</th>\n",
       "      <th>classe</th>\n",
       "      <th>min</th>\n",
       "      <th>max</th>\n",
       "      <th>commentaire</th>\n",
       "      <th>label</th>\n",
       "      <th>accuracy</th>\n",
       "      <th>skew</th>\n",
       "      <th>delta</th>\n",
       "      <th>scale</th>\n",
       "      <th>location</th>\n",
       "      <th>shape</th>\n",
       "      <th>stars</th>\n",
       "      <th>score</th>\n",
       "    </tr>\n",
       "  </thead>\n",
       "  <tbody>\n",
       "    <tr>\n",
       "      <th>0</th>\n",
       "      <td>0</td>\n",
       "      <td>17.80</td>\n",
       "      <td>14.28</td>\n",
       "      <td>8.30</td>\n",
       "      <td>17.80</td>\n",
       "      <td>Un excellent début d'année, poursuivez ainsi !</td>\n",
       "      <td>5</td>\n",
       "      <td>0.756478</td>\n",
       "      <td>0.6150</td>\n",
       "      <td>0.937612</td>\n",
       "      <td>3.013959</td>\n",
       "      <td>12.025239</td>\n",
       "      <td>2.696742</td>\n",
       "      <td>5</td>\n",
       "      <td>5.0</td>\n",
       "    </tr>\n",
       "    <tr>\n",
       "      <th>1</th>\n",
       "      <td>1</td>\n",
       "      <td>15.00</td>\n",
       "      <td>14.51</td>\n",
       "      <td>11.00</td>\n",
       "      <td>19.50</td>\n",
       "      <td>Bon ensemble.</td>\n",
       "      <td>4</td>\n",
       "      <td>0.489843</td>\n",
       "      <td>-0.3700</td>\n",
       "      <td>-0.864044</td>\n",
       "      <td>2.761004</td>\n",
       "      <td>16.413456</td>\n",
       "      <td>-1.716358</td>\n",
       "      <td>3</td>\n",
       "      <td>3.5</td>\n",
       "    </tr>\n",
       "    <tr>\n",
       "      <th>2</th>\n",
       "      <td>2</td>\n",
       "      <td>10.60</td>\n",
       "      <td>10.87</td>\n",
       "      <td>5.47</td>\n",
       "      <td>16.70</td>\n",
       "      <td>Résultats corrects mais le comportement en cla...</td>\n",
       "      <td>3</td>\n",
       "      <td>0.775267</td>\n",
       "      <td>-0.1075</td>\n",
       "      <td>-0.668329</td>\n",
       "      <td>2.364184</td>\n",
       "      <td>12.130700</td>\n",
       "      <td>-0.898454</td>\n",
       "      <td>3</td>\n",
       "      <td>3.0</td>\n",
       "    </tr>\n",
       "    <tr>\n",
       "      <th>3</th>\n",
       "      <td>3</td>\n",
       "      <td>15.50</td>\n",
       "      <td>14.24</td>\n",
       "      <td>6.00</td>\n",
       "      <td>19.00</td>\n",
       "      <td>Bon trimestre. Continuez ainsi !</td>\n",
       "      <td>4</td>\n",
       "      <td>0.485216</td>\n",
       "      <td>0.8700</td>\n",
       "      <td>0.983377</td>\n",
       "      <td>3.225933</td>\n",
       "      <td>11.708865</td>\n",
       "      <td>5.415736</td>\n",
       "      <td>4</td>\n",
       "      <td>4.0</td>\n",
       "    </tr>\n",
       "    <tr>\n",
       "      <th>4</th>\n",
       "      <td>4</td>\n",
       "      <td>14.75</td>\n",
       "      <td>12.67</td>\n",
       "      <td>6.00</td>\n",
       "      <td>18.25</td>\n",
       "      <td>Un bon trimestre.</td>\n",
       "      <td>4</td>\n",
       "      <td>0.472740</td>\n",
       "      <td>0.2725</td>\n",
       "      <td>0.816924</td>\n",
       "      <td>2.637196</td>\n",
       "      <td>10.951046</td>\n",
       "      <td>1.416440</td>\n",
       "      <td>4</td>\n",
       "      <td>4.0</td>\n",
       "    </tr>\n",
       "    <tr>\n",
       "      <th>...</th>\n",
       "      <td>...</td>\n",
       "      <td>...</td>\n",
       "      <td>...</td>\n",
       "      <td>...</td>\n",
       "      <td>...</td>\n",
       "      <td>...</td>\n",
       "      <td>...</td>\n",
       "      <td>...</td>\n",
       "      <td>...</td>\n",
       "      <td>...</td>\n",
       "      <td>...</td>\n",
       "      <td>...</td>\n",
       "      <td>...</td>\n",
       "      <td>...</td>\n",
       "      <td>...</td>\n",
       "    </tr>\n",
       "    <tr>\n",
       "      <th>6609</th>\n",
       "      <td>6753</td>\n",
       "      <td>14.16</td>\n",
       "      <td>13.29</td>\n",
       "      <td>8.79</td>\n",
       "      <td>19.05</td>\n",
       "      <td>Un bon trimestre et une bonne implication en c...</td>\n",
       "      <td>4</td>\n",
       "      <td>0.593034</td>\n",
       "      <td>-0.3150</td>\n",
       "      <td>-0.839461</td>\n",
       "      <td>2.693428</td>\n",
       "      <td>15.094038</td>\n",
       "      <td>-1.544771</td>\n",
       "      <td>4</td>\n",
       "      <td>4.0</td>\n",
       "    </tr>\n",
       "    <tr>\n",
       "      <th>6610</th>\n",
       "      <td>6754</td>\n",
       "      <td>10.94</td>\n",
       "      <td>12.35</td>\n",
       "      <td>5.56</td>\n",
       "      <td>19.42</td>\n",
       "      <td>Ensemble juste convenable. Il faut approfondir...</td>\n",
       "      <td>4</td>\n",
       "      <td>0.512499</td>\n",
       "      <td>-0.0700</td>\n",
       "      <td>-0.600919</td>\n",
       "      <td>2.279042</td>\n",
       "      <td>13.442718</td>\n",
       "      <td>-0.751797</td>\n",
       "      <td>2</td>\n",
       "      <td>3.0</td>\n",
       "    </tr>\n",
       "    <tr>\n",
       "      <th>6611</th>\n",
       "      <td>6755</td>\n",
       "      <td>10.68</td>\n",
       "      <td>11.34</td>\n",
       "      <td>8.50</td>\n",
       "      <td>18.55</td>\n",
       "      <td>Un trimestre correcte.</td>\n",
       "      <td>3</td>\n",
       "      <td>0.475545</td>\n",
       "      <td>-1.0925</td>\n",
       "      <td>-1.011129</td>\n",
       "      <td>3.384822</td>\n",
       "      <td>14.070755</td>\n",
       "      <td>-6.758492</td>\n",
       "      <td>2</td>\n",
       "      <td>2.5</td>\n",
       "    </tr>\n",
       "    <tr>\n",
       "      <th>6612</th>\n",
       "      <td>6756</td>\n",
       "      <td>15.38</td>\n",
       "      <td>13.78</td>\n",
       "      <td>9.75</td>\n",
       "      <td>18.75</td>\n",
       "      <td>Bonne implication dans le travail mené en clas...</td>\n",
       "      <td>4</td>\n",
       "      <td>0.565291</td>\n",
       "      <td>-0.2350</td>\n",
       "      <td>-0.793593</td>\n",
       "      <td>2.584007</td>\n",
       "      <td>15.416181</td>\n",
       "      <td>-1.304288</td>\n",
       "      <td>4</td>\n",
       "      <td>4.0</td>\n",
       "    </tr>\n",
       "    <tr>\n",
       "      <th>6613</th>\n",
       "      <td>6757</td>\n",
       "      <td>9.83</td>\n",
       "      <td>12.08</td>\n",
       "      <td>6.92</td>\n",
       "      <td>19.19</td>\n",
       "      <td>Ensemble moyen. Pour progresser, &lt;name&gt; doit f...</td>\n",
       "      <td>3</td>\n",
       "      <td>0.701820</td>\n",
       "      <td>-0.4875</td>\n",
       "      <td>-0.904832</td>\n",
       "      <td>2.890408</td>\n",
       "      <td>14.166734</td>\n",
       "      <td>-2.125170</td>\n",
       "      <td>2</td>\n",
       "      <td>2.5</td>\n",
       "    </tr>\n",
       "  </tbody>\n",
       "</table>\n",
       "<p>6614 rows × 15 columns</p>\n",
       "</div>"
      ],
      "text/plain": [
       "      Unnamed: 0  eleve  classe    min    max  \\\n",
       "0              0  17.80   14.28   8.30  17.80   \n",
       "1              1  15.00   14.51  11.00  19.50   \n",
       "2              2  10.60   10.87   5.47  16.70   \n",
       "3              3  15.50   14.24   6.00  19.00   \n",
       "4              4  14.75   12.67   6.00  18.25   \n",
       "...          ...    ...     ...    ...    ...   \n",
       "6609        6753  14.16   13.29   8.79  19.05   \n",
       "6610        6754  10.94   12.35   5.56  19.42   \n",
       "6611        6755  10.68   11.34   8.50  18.55   \n",
       "6612        6756  15.38   13.78   9.75  18.75   \n",
       "6613        6757   9.83   12.08   6.92  19.19   \n",
       "\n",
       "                                            commentaire  label  accuracy  \\\n",
       "0        Un excellent début d'année, poursuivez ainsi !      5  0.756478   \n",
       "1                                         Bon ensemble.      4  0.489843   \n",
       "2     Résultats corrects mais le comportement en cla...      3  0.775267   \n",
       "3                      Bon trimestre. Continuez ainsi !      4  0.485216   \n",
       "4                                     Un bon trimestre.      4  0.472740   \n",
       "...                                                 ...    ...       ...   \n",
       "6609  Un bon trimestre et une bonne implication en c...      4  0.593034   \n",
       "6610  Ensemble juste convenable. Il faut approfondir...      4  0.512499   \n",
       "6611                             Un trimestre correcte.      3  0.475545   \n",
       "6612  Bonne implication dans le travail mené en clas...      4  0.565291   \n",
       "6613  Ensemble moyen. Pour progresser, <name> doit f...      3  0.701820   \n",
       "\n",
       "        skew     delta     scale   location     shape  stars  score  \n",
       "0     0.6150  0.937612  3.013959  12.025239  2.696742      5    5.0  \n",
       "1    -0.3700 -0.864044  2.761004  16.413456 -1.716358      3    3.5  \n",
       "2    -0.1075 -0.668329  2.364184  12.130700 -0.898454      3    3.0  \n",
       "3     0.8700  0.983377  3.225933  11.708865  5.415736      4    4.0  \n",
       "4     0.2725  0.816924  2.637196  10.951046  1.416440      4    4.0  \n",
       "...      ...       ...       ...        ...       ...    ...    ...  \n",
       "6609 -0.3150 -0.839461  2.693428  15.094038 -1.544771      4    4.0  \n",
       "6610 -0.0700 -0.600919  2.279042  13.442718 -0.751797      2    3.0  \n",
       "6611 -1.0925 -1.011129  3.384822  14.070755 -6.758492      2    2.5  \n",
       "6612 -0.2350 -0.793593  2.584007  15.416181 -1.304288      4    4.0  \n",
       "6613 -0.4875 -0.904832  2.890408  14.166734 -2.125170      2    2.5  \n",
       "\n",
       "[6614 rows x 15 columns]"
      ]
     },
     "execution_count": 9,
     "metadata": {},
     "output_type": "execute_result"
    }
   ],
   "source": [
    "df['score'] = 0.5 * df['label'] + 0.5 * df['stars']\n",
    "df"
   ]
  },
  {
   "cell_type": "code",
   "execution_count": 10,
   "metadata": {},
   "outputs": [
    {
     "data": {
      "text/plain": [
       "(count    6614.000000\n",
       " mean        0.414122\n",
       " std         0.387351\n",
       " min         0.000000\n",
       " 25%         0.000000\n",
       " 50%         0.500000\n",
       " 75%         0.500000\n",
       " max         1.500000\n",
       " dtype: float64,\n",
       " 0.5,\n",
       " 1.0)"
      ]
     },
     "execution_count": 10,
     "metadata": {},
     "output_type": "execute_result"
    }
   ],
   "source": [
    "# The score and label differe by less than one for 87% of the rows, and agrees 40% of the time\n",
    "label_diff = abs(df['label']-df['score'])\n",
    "label_diff.describe(), label_diff.quantile(0.41), label_diff.quantile(0.87)"
   ]
  },
  {
   "cell_type": "code",
   "execution_count": 11,
   "metadata": {},
   "outputs": [
    {
     "data": {
      "text/plain": [
       "(count    6614.000000\n",
       " mean        0.414122\n",
       " std         0.387351\n",
       " min         0.000000\n",
       " 25%         0.000000\n",
       " 50%         0.500000\n",
       " 75%         0.500000\n",
       " max         1.500000\n",
       " dtype: float64,\n",
       " 0.5,\n",
       " 1.0)"
      ]
     },
     "execution_count": 11,
     "metadata": {},
     "output_type": "execute_result"
    }
   ],
   "source": [
    "# The score and stars differe by less than one for 87% of the rows and agrees 40% of the time\n",
    "stars_diff = abs(df['stars']-df['score'])\n",
    "stars_diff.describe(), stars_diff.quantile(0.4), stars_diff.quantile(0.86)"
   ]
  },
  {
   "cell_type": "code",
   "execution_count": 12,
   "metadata": {},
   "outputs": [
    {
     "data": {
      "text/plain": [
       "4.0    1132\n",
       "3.5     970\n",
       "4.5     961\n",
       "3.0     856\n",
       "5.0     777\n",
       "2.5     758\n",
       "2.0     571\n",
       "1.5     513\n",
       "1.0      76\n",
       "Name: score, dtype: int64"
      ]
     },
     "execution_count": 12,
     "metadata": {},
     "output_type": "execute_result"
    }
   ],
   "source": [
    "df['score'].value_counts()"
   ]
  },
  {
   "cell_type": "code",
   "execution_count": 13,
   "metadata": {},
   "outputs": [
    {
     "data": {
      "text/plain": [
       "<AxesSubplot:title={'center':'stars'}, ylabel='Frequency'>"
      ]
     },
     "execution_count": 13,
     "metadata": {},
     "output_type": "execute_result"
    },
    {
     "data": {
      "image/png": "[encoded data removed]",
      "text/plain": [
       "<Figure size 1080x288 with 3 Axes>"
      ]
     },
     "metadata": {
      "needs_background": "light"
     },
     "output_type": "display_data"
    }
   ],
   "source": [
    "# Score has a nice repartition\n",
    "fig, (ax1, ax2, ax3) = plt.subplots(1,3)\n",
    "\n",
    "df['score'].plot(kind=\"hist\", ax=ax1, figsize=(15,4), title=\"score\")\n",
    "df['label'].plot(kind=\"hist\", ax=ax2, figsize=(15,4), title=\"labels\")\n",
    "df['stars'].plot(kind=\"hist\", ax=ax3, figsize=(15,4), title=\"stars\")"
   ]
  },
  {
   "cell_type": "code",
   "execution_count": 14,
   "metadata": {},
   "outputs": [],
   "source": [
    "df['rounded_score'] = df['score'].apply(lambda x: int(x))"
   ]
  },
  {
   "cell_type": "code",
   "execution_count": 15,
   "metadata": {},
   "outputs": [
    {
     "data": {
      "text/plain": [
       "4    2093\n",
       "3    1826\n",
       "2    1329\n",
       "5     777\n",
       "1     589\n",
       "Name: rounded_score, dtype: int64"
      ]
     },
     "execution_count": 15,
     "metadata": {},
     "output_type": "execute_result"
    }
   ],
   "source": [
    "df['rounded_score'].value_counts()"
   ]
  },
  {
   "cell_type": "code",
   "execution_count": 16,
   "metadata": {},
   "outputs": [
    {
     "data": {
      "text/plain": [
       "<AxesSubplot:title={'center':'stars'}, ylabel='Frequency'>"
      ]
     },
     "execution_count": 16,
     "metadata": {},
     "output_type": "execute_result"
    },
    {
     "data": {
      "image/png": "[encoded data removed]",
      "text/plain": [
       "<Figure size 1440x288 with 4 Axes>"
      ]
     },
     "metadata": {
      "needs_background": "light"
     },
     "output_type": "display_data"
    }
   ],
   "source": [
    "fig, (ax1, ax2, ax3, ax4) = plt.subplots(1,4)\n",
    "\n",
    "df['score'].plot(kind=\"hist\", ax=ax1, figsize=(20,4), title=\"score\")\n",
    "df['rounded_score'].plot(kind=\"hist\", ax=ax2, figsize=(20,4), title=\"rounded score\")\n",
    "df['label'].plot(kind=\"hist\", ax=ax3, figsize=(20,4), title=\"labels\")\n",
    "df['stars'].plot(kind=\"hist\", ax=ax4, figsize=(20,4), title=\"stars\")\n"
   ]
  },
  {
   "cell_type": "code",
   "execution_count": 17,
   "metadata": {},
   "outputs": [],
   "source": [
    "df.to_csv(f'./out/{year}/custom_rounded_score.csv', index=False)"
   ]
  },
  {
   "cell_type": "code",
   "execution_count": 18,
   "metadata": {},
   "outputs": [],
   "source": [
    "df = pd.read_csv(f'./out/{year}/custom_rounded_score.csv')"
   ]
  },
  {
   "cell_type": "markdown",
   "metadata": {},
   "source": [
    "## Strip columns for web"
   ]
  },
  {
   "cell_type": "markdown",
   "metadata": {},
   "source": [
    "Only keep \"commentaire\" and \"score\" to gain space"
   ]
  },
  {
   "cell_type": "code",
   "execution_count": 19,
   "metadata": {},
   "outputs": [
    {
     "data": {
      "text/html": [
       "<div>\n",
       "<style scoped>\n",
       "    .dataframe tbody tr th:only-of-type {\n",
       "        vertical-align: middle;\n",
       "    }\n",
       "\n",
       "    .dataframe tbody tr th {\n",
       "        vertical-align: top;\n",
       "    }\n",
       "\n",
       "    .dataframe thead th {\n",
       "        text-align: right;\n",
       "    }\n",
       "</style>\n",
       "<table border=\"1\" class=\"dataframe\">\n",
       "  <thead>\n",
       "    <tr style=\"text-align: right;\">\n",
       "      <th></th>\n",
       "      <th>commentaire</th>\n",
       "      <th>score</th>\n",
       "    </tr>\n",
       "  </thead>\n",
       "  <tbody>\n",
       "    <tr>\n",
       "      <th>0</th>\n",
       "      <td>Un excellent début d'année, poursuivez ainsi !</td>\n",
       "      <td>5.0</td>\n",
       "    </tr>\n",
       "    <tr>\n",
       "      <th>1</th>\n",
       "      <td>Bon ensemble.</td>\n",
       "      <td>3.5</td>\n",
       "    </tr>\n",
       "    <tr>\n",
       "      <th>2</th>\n",
       "      <td>Résultats corrects mais le comportement en cla...</td>\n",
       "      <td>3.0</td>\n",
       "    </tr>\n",
       "    <tr>\n",
       "      <th>3</th>\n",
       "      <td>Bon trimestre. Continuez ainsi !</td>\n",
       "      <td>4.0</td>\n",
       "    </tr>\n",
       "    <tr>\n",
       "      <th>4</th>\n",
       "      <td>Un bon trimestre.</td>\n",
       "      <td>4.0</td>\n",
       "    </tr>\n",
       "  </tbody>\n",
       "</table>\n",
       "</div>"
      ],
      "text/plain": [
       "                                         commentaire  score\n",
       "0     Un excellent début d'année, poursuivez ainsi !    5.0\n",
       "1                                      Bon ensemble.    3.5\n",
       "2  Résultats corrects mais le comportement en cla...    3.0\n",
       "3                   Bon trimestre. Continuez ainsi !    4.0\n",
       "4                                  Un bon trimestre.    4.0"
      ]
     },
     "execution_count": 19,
     "metadata": {},
     "output_type": "execute_result"
    }
   ],
   "source": [
    "df[[\"commentaire\", \"score\"]].head()"
   ]
  },
  {
   "cell_type": "code",
   "execution_count": 20,
   "metadata": {},
   "outputs": [],
   "source": [
    "df[[\"commentaire\", \"score\"]].to_csv(f'./out/{year}/custom_score_striped.csv', index=False)"
   ]
  },
  {
   "cell_type": "code",
   "execution_count": null,
   "metadata": {},
   "outputs": [],
   "source": []
  }
 ],
 "metadata": {
  "interpreter": {
   "hash": "aee8b7b246df8f9039afb4144a1f6fd8d2ca17a180786b69acc140d282b71a49"
  },
  "kernelspec": {
   "display_name": "Python 3.9.6 64-bit",
   "name": "python3"
  },
  "language_info": {
   "codemirror_mode": {
    "name": "ipython",
    "version": 3
   },
   "file_extension": ".py",
   "mimetype": "text/x-python",
   "name": "python",
   "nbconvert_exporter": "python",
   "pygments_lexer": "ipython3",
   "version": "3.9.9"
  },
  "orig_nbformat": 4
 },
 "nbformat": 4,
 "nbformat_minor": 2
}
