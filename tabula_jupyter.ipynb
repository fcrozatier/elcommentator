{
 "metadata": {
  "language_info": {
   "codemirror_mode": {
    "name": "ipython",
    "version": 3
   },
   "file_extension": ".py",
   "mimetype": "text/x-python",
   "name": "python",
   "nbconvert_exporter": "python",
   "pygments_lexer": "ipython3",
   "version": "3.9.5"
  },
  "orig_nbformat": 2,
  "kernelspec": {
   "name": "python395jvsc74a57bd0aee8b7b246df8f9039afb4144a1f6fd8d2ca17a180786b69acc140d282b71a49",
   "display_name": "Python 3.9.5 64-bit"
  },
  "metadata": {
   "interpreter": {
    "hash": "aee8b7b246df8f9039afb4144a1f6fd8d2ca17a180786b69acc140d282b71a49"
   }
  }
 },
 "nbformat": 4,
 "nbformat_minor": 2,
 "cells": [
  {
   "source": [
    "# El commentator"
   ],
   "cell_type": "markdown",
   "metadata": {}
  },
  {
   "cell_type": "code",
   "execution_count": 39,
   "metadata": {},
   "outputs": [
    {
     "output_type": "execute_result",
     "data": {
      "text/plain": [
       "\"Les résultats sont devenus insuffisants. faute de travail. L'attention en classe est problématique et la participation inexistante. Il faut vous ressaisir !\""
      ]
     },
     "metadata": {},
     "execution_count": 39
    }
   ],
   "source": [
    "import tabula\n",
    "import pandas as pd\n",
    "\n",
    "pdf_path = \"./Bulletins/AAZZOUZ Bilel-Trimestre 2-1G2-N-6569.pdf\"\n",
    "pdf_path2 = \"./Bulletins/AAZZOUZ Bilel-Trimestre 3-2NDE 7-N-3597.pdf\"\n",
    "\n",
    "df = tabula.read_pdf(\n",
    "    pdf_path,\n",
    "     pages=1,\n",
    "     stream=False,\n",
    "     lattice=True,\n",
    "     guess=True,\n",
    "     )[0]\n",
    "\n",
    "# Drop field name column & last NaN column \n",
    "df = df.drop([df.columns[0], df.columns[6]], axis=1) \n",
    "\n",
    "# Drop rows with no comment\n",
    "df = df.dropna(subset=[df.columns[4]]) \n",
    "#df = df.reset_index(drop=True)\n",
    "\n",
    "df.columns = ['eleve', 'classe', \"min\", \"max\", \"commentaire\"]\n",
    "\n",
    "convert_dict = {\n",
    "    'eleve': float,\n",
    "    'classe': float,\n",
    "    'min': float,\n",
    "    'max': float,\n",
    "    'commentaire': str\n",
    " }\n",
    "\n",
    "# Pre-process columns \n",
    "df = df.apply(lambda x: x.replace(',','.', regex=True) if x.name != 'commentaire' else x, axis=1)\n",
    "## Filter rows with multiple student values\n",
    "df = df[~df['eleve'].str.contains('\\r')]\n",
    "\n",
    "df = df.astype(convert_dict)\n",
    "\n",
    "# Remove returns in comments\n",
    "df['commentaire'] = df['commentaire'].str.replace('\\r',' ', regex=True)\n",
    "\n",
    "df"
   ]
  },
  {
   "source": [
    "## Extract raw data"
   ],
   "cell_type": "markdown",
   "metadata": {}
  },
  {
   "cell_type": "code",
   "execution_count": 73,
   "metadata": {},
   "outputs": [],
   "source": [
    "import os\n",
    "import tabula\n",
    "import pandas as pd\n",
    "\n",
    "directory = './Bulletins'\n",
    "files = os.listdir(directory)\n",
    "\n",
    "col_names = ['eleve', 'classe', \"min\", \"max\", \"commentaire\"]\n",
    "\n",
    "def get_datastream_from_file(path):\n",
    "  df = tabula.read_pdf(\n",
    "      path,\n",
    "      pages=1,\n",
    "      stream=False,\n",
    "      lattice=True,\n",
    "      guess=True,\n",
    "      )[0]\n",
    "\n",
    "  df = df.drop([df.columns[0], df.columns[6]], axis=1)\n",
    "  df = df.dropna()\n",
    "\n",
    "  df.columns = col_names\n",
    "\n",
    "  return df\n",
    "\n",
    "\n",
    "files_subset = files\n",
    "files_path = list(map(lambda name : directory + '/' + name, files_subset))\n",
    "\n",
    "result = pd.DataFrame(columns=col_names)\n",
    "for file_path in files_path:\n",
    "  result = result.append(get_datastream_from_file(file_path))\n",
    "\n",
    "result.to_csv('data_raw.csv')"
   ]
  },
  {
   "cell_type": "code",
   "execution_count": 20,
   "metadata": {},
   "outputs": [
    {
     "output_type": "execute_result",
     "data": {
      "text/plain": [
       "19"
      ]
     },
     "metadata": {},
     "execution_count": 20
    }
   ],
   "source": [
    "# Trouver le nombre d'appréciations contenant un mot clé \n",
    "\n",
    "df = pd.read_csv('data.csv')\n",
    "sum(['scienc' in df.iloc[i]['Appréciation'] for i in range(0, df.shape[0])])\n"
   ]
  },
  {
   "source": [
    "## Cleanup "
   ],
   "cell_type": "markdown",
   "metadata": {}
  },
  {
   "cell_type": "code",
   "execution_count": 80,
   "metadata": {},
   "outputs": [
    {
     "output_type": "execute_result",
     "data": {
      "text/plain": [
       "  Unnamed: 0  eleve classe    min    max  \\\n",
       "0          3  18,29  12,12   5,13  18,29   \n",
       "1          4  18,80  12,82   6,40  18,80   \n",
       "2          5  17,80  14,28   8,30  17,80   \n",
       "3          6  15,00  14,51  11,00  19,50   \n",
       "4          7  10,60  10,87   5,47  16,71   \n",
       "\n",
       "                                         commentaire  \n",
       "0  Un anglais de qualité (tant à l'oral qu'à l'éc...  \n",
       "1  Niveau d'anglais excellent. C'est très solide,...  \n",
       "2     Un excellent début d'année, poursuivez ainsi !  \n",
       "3                                      Bon ensemble.  \n",
       "4  Résultats corrects mais le comportement en cla...  "
      ],
      "text/html": "<div>\n<style scoped>\n    .dataframe tbody tr th:only-of-type {\n        vertical-align: middle;\n    }\n\n    .dataframe tbody tr th {\n        vertical-align: top;\n    }\n\n    .dataframe thead th {\n        text-align: right;\n    }\n</style>\n<table border=\"1\" class=\"dataframe\">\n  <thead>\n    <tr style=\"text-align: right;\">\n      <th></th>\n      <th>Unnamed: 0</th>\n      <th>eleve</th>\n      <th>classe</th>\n      <th>min</th>\n      <th>max</th>\n      <th>commentaire</th>\n    </tr>\n  </thead>\n  <tbody>\n    <tr>\n      <th>0</th>\n      <td>3</td>\n      <td>18,29</td>\n      <td>12,12</td>\n      <td>5,13</td>\n      <td>18,29</td>\n      <td>Un anglais de qualité (tant à l'oral qu'à l'éc...</td>\n    </tr>\n    <tr>\n      <th>1</th>\n      <td>4</td>\n      <td>18,80</td>\n      <td>12,82</td>\n      <td>6,40</td>\n      <td>18,80</td>\n      <td>Niveau d'anglais excellent. C'est très solide,...</td>\n    </tr>\n    <tr>\n      <th>2</th>\n      <td>5</td>\n      <td>17,80</td>\n      <td>14,28</td>\n      <td>8,30</td>\n      <td>17,80</td>\n      <td>Un excellent début d'année, poursuivez ainsi !</td>\n    </tr>\n    <tr>\n      <th>3</th>\n      <td>6</td>\n      <td>15,00</td>\n      <td>14,51</td>\n      <td>11,00</td>\n      <td>19,50</td>\n      <td>Bon ensemble.</td>\n    </tr>\n    <tr>\n      <th>4</th>\n      <td>7</td>\n      <td>10,60</td>\n      <td>10,87</td>\n      <td>5,47</td>\n      <td>16,71</td>\n      <td>Résultats corrects mais le comportement en cla...</td>\n    </tr>\n  </tbody>\n</table>\n</div>"
     },
     "metadata": {},
     "execution_count": 80
    }
   ],
   "source": [
    "df = pd.read_csv('data_raw.csv')\n",
    "df.head()"
   ]
  },
  {
   "source": [
    "### Indexing"
   ],
   "cell_type": "markdown",
   "metadata": {}
  },
  {
   "cell_type": "code",
   "execution_count": 81,
   "metadata": {},
   "outputs": [
    {
     "output_type": "execute_result",
     "data": {
      "text/plain": [
       "   eleve classe    min    max  \\\n",
       "0  18,29  12,12   5,13  18,29   \n",
       "1  18,80  12,82   6,40  18,80   \n",
       "2  17,80  14,28   8,30  17,80   \n",
       "3  15,00  14,51  11,00  19,50   \n",
       "4  10,60  10,87   5,47  16,71   \n",
       "\n",
       "                                         commentaire  \n",
       "0  Un anglais de qualité (tant à l'oral qu'à l'éc...  \n",
       "1  Niveau d'anglais excellent. C'est très solide,...  \n",
       "2     Un excellent début d'année, poursuivez ainsi !  \n",
       "3                                      Bon ensemble.  \n",
       "4  Résultats corrects mais le comportement en cla...  "
      ],
      "text/html": "<div>\n<style scoped>\n    .dataframe tbody tr th:only-of-type {\n        vertical-align: middle;\n    }\n\n    .dataframe tbody tr th {\n        vertical-align: top;\n    }\n\n    .dataframe thead th {\n        text-align: right;\n    }\n</style>\n<table border=\"1\" class=\"dataframe\">\n  <thead>\n    <tr style=\"text-align: right;\">\n      <th></th>\n      <th>eleve</th>\n      <th>classe</th>\n      <th>min</th>\n      <th>max</th>\n      <th>commentaire</th>\n    </tr>\n  </thead>\n  <tbody>\n    <tr>\n      <th>0</th>\n      <td>18,29</td>\n      <td>12,12</td>\n      <td>5,13</td>\n      <td>18,29</td>\n      <td>Un anglais de qualité (tant à l'oral qu'à l'éc...</td>\n    </tr>\n    <tr>\n      <th>1</th>\n      <td>18,80</td>\n      <td>12,82</td>\n      <td>6,40</td>\n      <td>18,80</td>\n      <td>Niveau d'anglais excellent. C'est très solide,...</td>\n    </tr>\n    <tr>\n      <th>2</th>\n      <td>17,80</td>\n      <td>14,28</td>\n      <td>8,30</td>\n      <td>17,80</td>\n      <td>Un excellent début d'année, poursuivez ainsi !</td>\n    </tr>\n    <tr>\n      <th>3</th>\n      <td>15,00</td>\n      <td>14,51</td>\n      <td>11,00</td>\n      <td>19,50</td>\n      <td>Bon ensemble.</td>\n    </tr>\n    <tr>\n      <th>4</th>\n      <td>10,60</td>\n      <td>10,87</td>\n      <td>5,47</td>\n      <td>16,71</td>\n      <td>Résultats corrects mais le comportement en cla...</td>\n    </tr>\n  </tbody>\n</table>\n</div>"
     },
     "metadata": {},
     "execution_count": 81
    }
   ],
   "source": [
    "# data_raw has messy indexing\n",
    "df = df.drop([df.columns[0]], axis=1)\n",
    "df.head()"
   ]
  },
  {
   "cell_type": "code",
   "execution_count": 82,
   "metadata": {},
   "outputs": [],
   "source": [
    "df.to_csv('data_clean.csv')"
   ]
  },
  {
   "source": [
    "### Nan values"
   ],
   "cell_type": "markdown",
   "metadata": {}
  },
  {
   "source": [
    "### Types"
   ],
   "cell_type": "markdown",
   "metadata": {}
  },
  {
   "cell_type": "code",
   "execution_count": 83,
   "metadata": {},
   "outputs": [
    {
     "output_type": "execute_result",
     "data": {
      "text/plain": [
       "   eleve classe    min    max  \\\n",
       "0  18,29  12,12   5,13  18,29   \n",
       "1  18,80  12,82   6,40  18,80   \n",
       "2  17,80  14,28   8,30  17,80   \n",
       "3  15,00  14,51  11,00  19,50   \n",
       "4  10,60  10,87   5,47  16,71   \n",
       "\n",
       "                                         commentaire  \n",
       "0  Un anglais de qualité (tant à l'oral qu'à l'éc...  \n",
       "1  Niveau d'anglais excellent. C'est très solide,...  \n",
       "2     Un excellent début d'année, poursuivez ainsi !  \n",
       "3                                      Bon ensemble.  \n",
       "4  Résultats corrects mais le comportement en cla...  "
      ],
      "text/html": "<div>\n<style scoped>\n    .dataframe tbody tr th:only-of-type {\n        vertical-align: middle;\n    }\n\n    .dataframe tbody tr th {\n        vertical-align: top;\n    }\n\n    .dataframe thead th {\n        text-align: right;\n    }\n</style>\n<table border=\"1\" class=\"dataframe\">\n  <thead>\n    <tr style=\"text-align: right;\">\n      <th></th>\n      <th>eleve</th>\n      <th>classe</th>\n      <th>min</th>\n      <th>max</th>\n      <th>commentaire</th>\n    </tr>\n  </thead>\n  <tbody>\n    <tr>\n      <th>0</th>\n      <td>18,29</td>\n      <td>12,12</td>\n      <td>5,13</td>\n      <td>18,29</td>\n      <td>Un anglais de qualité (tant à l'oral qu'à l'éc...</td>\n    </tr>\n    <tr>\n      <th>1</th>\n      <td>18,80</td>\n      <td>12,82</td>\n      <td>6,40</td>\n      <td>18,80</td>\n      <td>Niveau d'anglais excellent. C'est très solide,...</td>\n    </tr>\n    <tr>\n      <th>2</th>\n      <td>17,80</td>\n      <td>14,28</td>\n      <td>8,30</td>\n      <td>17,80</td>\n      <td>Un excellent début d'année, poursuivez ainsi !</td>\n    </tr>\n    <tr>\n      <th>3</th>\n      <td>15,00</td>\n      <td>14,51</td>\n      <td>11,00</td>\n      <td>19,50</td>\n      <td>Bon ensemble.</td>\n    </tr>\n    <tr>\n      <th>4</th>\n      <td>10,60</td>\n      <td>10,87</td>\n      <td>5,47</td>\n      <td>16,71</td>\n      <td>Résultats corrects mais le comportement en cla...</td>\n    </tr>\n  </tbody>\n</table>\n</div>"
     },
     "metadata": {},
     "execution_count": 83
    }
   ],
   "source": [
    "df = pd.read_csv('data_clean.csv', index_col=0)\n",
    "df.head()"
   ]
  },
  {
   "cell_type": "code",
   "execution_count": 61,
   "metadata": {},
   "outputs": [
    {
     "output_type": "execute_result",
     "data": {
      "text/plain": [
       "   eleve classe    min    max  \\\n",
       "0  18,29  12,12   5,13  18,29   \n",
       "1  18,80  12,82   6,40  18,80   \n",
       "2  17,80  14,28   8,30  17,80   \n",
       "3  15,00  14,51  11,00  19,50   \n",
       "4  10,60  10,87   5,47  16,71   \n",
       "\n",
       "                                         commentaire  \n",
       "0  Un anglais de qualité (tant à l'oral qu'à l'éc...  \n",
       "1  Niveau d'anglais excellent. C'est très solide,...  \n",
       "2     Un excellent début d'année, poursuivez ainsi !  \n",
       "3                                      Bon ensemble.  \n",
       "4  Résultats corrects mais le comportement en cla...  "
      ],
      "text/html": "<div>\n<style scoped>\n    .dataframe tbody tr th:only-of-type {\n        vertical-align: middle;\n    }\n\n    .dataframe tbody tr th {\n        vertical-align: top;\n    }\n\n    .dataframe thead th {\n        text-align: right;\n    }\n</style>\n<table border=\"1\" class=\"dataframe\">\n  <thead>\n    <tr style=\"text-align: right;\">\n      <th></th>\n      <th>eleve</th>\n      <th>classe</th>\n      <th>min</th>\n      <th>max</th>\n      <th>commentaire</th>\n    </tr>\n  </thead>\n  <tbody>\n    <tr>\n      <th>0</th>\n      <td>18,29</td>\n      <td>12,12</td>\n      <td>5,13</td>\n      <td>18,29</td>\n      <td>Un anglais de qualité (tant à l'oral qu'à l'éc...</td>\n    </tr>\n    <tr>\n      <th>1</th>\n      <td>18,80</td>\n      <td>12,82</td>\n      <td>6,40</td>\n      <td>18,80</td>\n      <td>Niveau d'anglais excellent. C'est très solide,...</td>\n    </tr>\n    <tr>\n      <th>2</th>\n      <td>17,80</td>\n      <td>14,28</td>\n      <td>8,30</td>\n      <td>17,80</td>\n      <td>Un excellent début d'année, poursuivez ainsi !</td>\n    </tr>\n    <tr>\n      <th>3</th>\n      <td>15,00</td>\n      <td>14,51</td>\n      <td>11,00</td>\n      <td>19,50</td>\n      <td>Bon ensemble.</td>\n    </tr>\n    <tr>\n      <th>4</th>\n      <td>10,60</td>\n      <td>10,87</td>\n      <td>5,47</td>\n      <td>16,71</td>\n      <td>Résultats corrects mais le comportement en cla...</td>\n    </tr>\n  </tbody>\n</table>\n</div>"
     },
     "metadata": {},
     "execution_count": 61
    }
   ],
   "source": [
    "df.columns = ['eleve', 'classe', \"min\", \"max\", \"commentaire\"]\n",
    "df.head()"
   ]
  },
  {
   "cell_type": "code",
   "execution_count": 63,
   "metadata": {},
   "outputs": [
    {
     "output_type": "execute_result",
     "data": {
      "text/plain": [
       "   eleve classe    min    max  \\\n",
       "0  18.29  12.12   5.13  18.29   \n",
       "1  18.80  12.82   6.40  18.80   \n",
       "2  17.80  14.28   8.30  17.80   \n",
       "3  15.00  14.51  11.00  19.50   \n",
       "4  10.60  10.87   5.47  16.71   \n",
       "\n",
       "                                         commentaire  \n",
       "0  Un anglais de qualité (tant à l'oral qu'à l'éc...  \n",
       "1  Niveau d'anglais excellent. C'est très solide....  \n",
       "2     Un excellent début d'année. poursuivez ainsi !  \n",
       "3                                      Bon ensemble.  \n",
       "4  Résultats corrects mais le comportement en cla...  "
      ],
      "text/html": "<div>\n<style scoped>\n    .dataframe tbody tr th:only-of-type {\n        vertical-align: middle;\n    }\n\n    .dataframe tbody tr th {\n        vertical-align: top;\n    }\n\n    .dataframe thead th {\n        text-align: right;\n    }\n</style>\n<table border=\"1\" class=\"dataframe\">\n  <thead>\n    <tr style=\"text-align: right;\">\n      <th></th>\n      <th>eleve</th>\n      <th>classe</th>\n      <th>min</th>\n      <th>max</th>\n      <th>commentaire</th>\n    </tr>\n  </thead>\n  <tbody>\n    <tr>\n      <th>0</th>\n      <td>18.29</td>\n      <td>12.12</td>\n      <td>5.13</td>\n      <td>18.29</td>\n      <td>Un anglais de qualité (tant à l'oral qu'à l'éc...</td>\n    </tr>\n    <tr>\n      <th>1</th>\n      <td>18.80</td>\n      <td>12.82</td>\n      <td>6.40</td>\n      <td>18.80</td>\n      <td>Niveau d'anglais excellent. C'est très solide....</td>\n    </tr>\n    <tr>\n      <th>2</th>\n      <td>17.80</td>\n      <td>14.28</td>\n      <td>8.30</td>\n      <td>17.80</td>\n      <td>Un excellent début d'année. poursuivez ainsi !</td>\n    </tr>\n    <tr>\n      <th>3</th>\n      <td>15.00</td>\n      <td>14.51</td>\n      <td>11.00</td>\n      <td>19.50</td>\n      <td>Bon ensemble.</td>\n    </tr>\n    <tr>\n      <th>4</th>\n      <td>10.60</td>\n      <td>10.87</td>\n      <td>5.47</td>\n      <td>16.71</td>\n      <td>Résultats corrects mais le comportement en cla...</td>\n    </tr>\n  </tbody>\n</table>\n</div>"
     },
     "metadata": {},
     "execution_count": 63
    }
   ],
   "source": [
    "df = df.apply(lambda x: x.replace(',','.', regex=True) if x.name != 'commentaire' else x, axis=1)\n",
    "df.head()"
   ]
  },
  {
   "cell_type": "code",
   "execution_count": 72,
   "metadata": {},
   "outputs": [
    {
     "output_type": "execute_result",
     "data": {
      "text/plain": [
       "0"
      ]
     },
     "metadata": {},
     "execution_count": 72
    }
   ],
   "source": [
    "\n",
    "sum(df['commentaire'].str.contains('\\r'))"
   ]
  }
 ]
}