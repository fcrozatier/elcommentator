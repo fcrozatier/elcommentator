{
 "metadata": {
  "language_info": {
   "codemirror_mode": {
    "name": "ipython",
    "version": 3
   },
   "file_extension": ".py",
   "mimetype": "text/x-python",
   "name": "python",
   "nbconvert_exporter": "python",
   "pygments_lexer": "ipython3",
   "version": "3.9.5"
  },
  "orig_nbformat": 2,
  "kernelspec": {
   "name": "python395jvsc74a57bd0aee8b7b246df8f9039afb4144a1f6fd8d2ca17a180786b69acc140d282b71a49",
   "display_name": "Python 3.9.5 64-bit"
  },
  "metadata": {
   "interpreter": {
    "hash": "aee8b7b246df8f9039afb4144a1f6fd8d2ca17a180786b69acc140d282b71a49"
   }
  }
 },
 "nbformat": 4,
 "nbformat_minor": 2,
 "cells": [
  {
   "cell_type": "code",
   "execution_count": 39,
   "metadata": {},
   "outputs": [
    {
     "output_type": "execute_result",
     "data": {
      "text/plain": [
       "\"Les résultats sont devenus insuffisants. faute de travail. L'attention en classe est problématique et la participation inexistante. Il faut vous ressaisir !\""
      ]
     },
     "metadata": {},
     "execution_count": 39
    }
   ],
   "source": [
    "import tabula\n",
    "import pandas as pd\n",
    "\n",
    "pdf_path = \"./Bulletins/AAZZOUZ Bilel-Trimestre 2-1G2-N-6569.pdf\"\n",
    "pdf_path2 = \"./Bulletins/AAZZOUZ Bilel-Trimestre 3-2NDE 7-N-3597.pdf\"\n",
    "\n",
    "df = tabula.read_pdf(\n",
    "    pdf_path,\n",
    "     pages=1,\n",
    "     stream=False,\n",
    "     lattice=True,\n",
    "     guess=True,\n",
    "     )[0]\n",
    "\n",
    "# Drop field name column & last NaN column \n",
    "df = df.drop([df.columns[0], df.columns[6]], axis=1) \n",
    "\n",
    "# Drop rows with no comment\n",
    "df = df.dropna(subset=[df.columns[4]]) \n",
    "#df = df.reset_index(drop=True)\n",
    "\n",
    "df.columns = ['eleve', 'classe', \"min\", \"max\", \"commentaire\"]\n",
    "\n",
    "convert_dict = {\n",
    "    'eleve': float,\n",
    "    'classe': float,\n",
    "    'min': float,\n",
    "    'max': float,\n",
    "    'commentaire': str\n",
    " }\n",
    "\n",
    "# Pre-process columns \n",
    "df = df.apply(lambda x: x.replace(',','.', regex=True) if x.name != 'commentaire' else x, axis=1)\n",
    "## Filter rows with multiple student values\n",
    "df = df[~df['eleve'].str.contains('\\r')]\n",
    "\n",
    "df = df.astype(convert_dict)\n",
    "\n",
    "# Remove returns in comments\n",
    "df['commentaire'] = df['commentaire'].str.replace('\\r',' ', regex=True)\n",
    "\n",
    "df"
   ]
  },
  {
   "cell_type": "code",
   "execution_count": 5,
   "metadata": {},
   "outputs": [],
   "source": [
    "import os\n",
    "import tabula\n",
    "import pandas as pd\n",
    "\n",
    "dir = './Bulletins'\n",
    "files = os.listdir(dir)\n",
    "\n",
    "def get_datastream_from_file(path):\n",
    "  df = tabula.read_pdf(\n",
    "      path,\n",
    "      pages=1,\n",
    "      stream=False,\n",
    "      lattice=True,\n",
    "      guess=True,\n",
    "      )[0]\n",
    "\n",
    "  df = df.drop([df.columns[0], df.columns[6]], axis=1)\n",
    "  df = df.dropna()\n",
    "\n",
    "  df.columns = ['Elève', 'Classe', \"min\", \"max\", \"Appréciation\"]\n",
    "  df = df.replace('\\r',' ', regex=True)\n",
    "\n",
    "  return df\n",
    "\n",
    "\n",
    "files_subset = files\n",
    "files_path = list(map(lambda name : dir + '/' + name,files_subset))\n",
    "#print(files_path)\n",
    "\n",
    "frames = list(map(get_datastream_from_file, files_path))\n",
    "result = pd.concat(frames)\n",
    "\n",
    "#result\n",
    "result.to_csv('data.csv')"
   ]
  },
  {
   "cell_type": "code",
   "execution_count": 20,
   "metadata": {},
   "outputs": [
    {
     "output_type": "execute_result",
     "data": {
      "text/plain": [
       "19"
      ]
     },
     "metadata": {},
     "execution_count": 20
    }
   ],
   "source": [
    "# Trouver le nombre d'appréciations contenant un mot clé \n",
    "\n",
    "df = pd.read_csv('data.csv')\n",
    "sum(['scienc' in df.iloc[i]['Appréciation'] for i in range(0,df.shape[0])])\n"
   ]
  }
 ]
}