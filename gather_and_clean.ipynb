{
 "metadata": {
  "language_info": {
   "codemirror_mode": {
    "name": "ipython",
    "version": 3
   },
   "file_extension": ".py",
   "mimetype": "text/x-python",
   "name": "python",
   "nbconvert_exporter": "python",
   "pygments_lexer": "ipython3",
   "version": "3.9.6"
  },
  "orig_nbformat": 2,
  "kernelspec": {
   "name": "python3",
   "display_name": "Python 3.9.6 64-bit"
  },
  "metadata": {
   "interpreter": {
    "hash": "aee8b7b246df8f9039afb4144a1f6fd8d2ca17a180786b69acc140d282b71a49"
   }
  },
  "interpreter": {
   "hash": "aee8b7b246df8f9039afb4144a1f6fd8d2ca17a180786b69acc140d282b71a49"
  }
 },
 "nbformat": 4,
 "nbformat_minor": 2,
 "cells": [
  {
   "cell_type": "markdown",
   "source": [
    "# El commentator"
   ],
   "metadata": {}
  },
  {
   "cell_type": "code",
   "execution_count": 2,
   "source": [
    "import functools\n",
    "import os\n",
    "import pandas as pd\n",
    "import tabula\n",
    "import re\n",
    "from unidecode import unidecode"
   ],
   "outputs": [],
   "metadata": {}
  },
  {
   "cell_type": "markdown",
   "source": [
    "## Dataframe extraction for a single pdf file"
   ],
   "metadata": {}
  },
  {
   "cell_type": "code",
   "execution_count": 39,
   "source": [
    "pdf_path = \"./Bulletins/AAZZOUZ Bilel-Trimestre 2-1G2-N-6569.pdf\"\n",
    "pdf_path2 = \"./Bulletins/AAZZOUZ Bilel-Trimestre 3-2NDE 7-N-3597.pdf\"\n",
    "\n",
    "df = tabula.read_pdf(\n",
    "    pdf_path,\n",
    "     pages=1,\n",
    "     stream=False,\n",
    "     lattice=True,\n",
    "     guess=True,\n",
    "     )[0]\n",
    "\n",
    "# Drop 'field-name' column & last NaN column \n",
    "df = df.drop([df.columns[0], df.columns[6]], axis=1) \n",
    "\n",
    "# Drop rows with no comment\n",
    "df = df.dropna(subset=[df.columns[4]]) \n",
    "\n",
    "\n",
    "df.columns = ['eleve', 'classe', \"min\", \"max\", \"commentaire\"]\n",
    "\n",
    "convert_dict = {\n",
    "    'eleve': float,\n",
    "    'classe': float,\n",
    "    'min': float,\n",
    "    'max': float,\n",
    "    'commentaire': str\n",
    " }\n",
    "\n",
    "# Pre-process columns \n",
    "df = df.apply(lambda x: x.replace(',','.', regex=True) if x.name != 'commentaire' else x, axis=1)\n",
    "## Filter rows with multiple student grades values\n",
    "df = df[~df['eleve'].str.contains('\\r')]\n",
    "\n",
    "df = df.astype(convert_dict)\n",
    "\n",
    "# Remove returns in comments\n",
    "df['commentaire'] = df['commentaire'].str.replace('\\r',' ', regex=True)\n",
    "\n",
    "df"
   ],
   "outputs": [
    {
     "output_type": "execute_result",
     "data": {
      "text/plain": [
       "\"Les résultats sont devenus insuffisants. faute de travail. L'attention en classe est problématique et la participation inexistante. Il faut vous ressaisir !\""
      ]
     },
     "metadata": {},
     "execution_count": 39
    }
   ],
   "metadata": {}
  },
  {
   "cell_type": "markdown",
   "source": [
    "## Extract raw data for whole directory"
   ],
   "metadata": {}
  },
  {
   "cell_type": "code",
   "execution_count": 73,
   "source": [
    "directory = './Bulletins'\n",
    "files = os.listdir(directory)\n",
    "\n",
    "col_names = ['eleve', 'classe', \"min\", \"max\", \"commentaire\"]\n",
    "\n",
    "def get_datastream_from_file(path):\n",
    "  df = tabula.read_pdf(\n",
    "      path,\n",
    "      pages=1,\n",
    "      stream=False,\n",
    "      lattice=True,\n",
    "      guess=True,\n",
    "      )[0]\n",
    "\n",
    "  df = df.drop([df.columns[0], df.columns[6]], axis=1)\n",
    "  df = df.dropna()\n",
    "\n",
    "  df.columns = col_names\n",
    "\n",
    "  return df\n",
    "\n",
    "\n",
    "files_subset = files\n",
    "files_path = list(map(lambda name : directory + '/' + name, files_subset))\n",
    "\n",
    "result = pd.DataFrame(columns=col_names)\n",
    "for file_path in files_path:\n",
    "  result = result.append(get_datastream_from_file(file_path))\n",
    "\n",
    "result.to_csv('data_raw.csv', index=None)"
   ],
   "outputs": [],
   "metadata": {}
  },
  {
   "cell_type": "markdown",
   "source": [
    "## Extract data from google docs"
   ],
   "metadata": {}
  },
  {
   "cell_type": "code",
   "execution_count": 133,
   "source": [
    "df = pd.read_clipboard()\n",
    "df.head()"
   ],
   "outputs": [
    {
     "output_type": "execute_result",
     "data": {
      "text/plain": [
       "   eleve classe  min   max                                    commentaire\n",
       "0    5.0   9,06    0  19.5                      Ensemble demeuré fragile.\n",
       "1    8.0   9,06    0  19.5                              Ensemble fragile.\n",
       "2   11.5   9,06    0  19.5                            Ensemble honorable.\n",
       "3    3.5   9,06    0  19.5                      Ensemble demeuré fragile.\n",
       "4   12.5   9,06    0  19.5  Ensemble en recul mais qui demeure honorable."
      ],
      "text/html": [
       "<div>\n",
       "<style scoped>\n",
       "    .dataframe tbody tr th:only-of-type {\n",
       "        vertical-align: middle;\n",
       "    }\n",
       "\n",
       "    .dataframe tbody tr th {\n",
       "        vertical-align: top;\n",
       "    }\n",
       "\n",
       "    .dataframe thead th {\n",
       "        text-align: right;\n",
       "    }\n",
       "</style>\n",
       "<table border=\"1\" class=\"dataframe\">\n",
       "  <thead>\n",
       "    <tr style=\"text-align: right;\">\n",
       "      <th></th>\n",
       "      <th>eleve</th>\n",
       "      <th>classe</th>\n",
       "      <th>min</th>\n",
       "      <th>max</th>\n",
       "      <th>commentaire</th>\n",
       "    </tr>\n",
       "  </thead>\n",
       "  <tbody>\n",
       "    <tr>\n",
       "      <th>0</th>\n",
       "      <td>5.0</td>\n",
       "      <td>9,06</td>\n",
       "      <td>0</td>\n",
       "      <td>19.5</td>\n",
       "      <td>Ensemble demeuré fragile.</td>\n",
       "    </tr>\n",
       "    <tr>\n",
       "      <th>1</th>\n",
       "      <td>8.0</td>\n",
       "      <td>9,06</td>\n",
       "      <td>0</td>\n",
       "      <td>19.5</td>\n",
       "      <td>Ensemble fragile.</td>\n",
       "    </tr>\n",
       "    <tr>\n",
       "      <th>2</th>\n",
       "      <td>11.5</td>\n",
       "      <td>9,06</td>\n",
       "      <td>0</td>\n",
       "      <td>19.5</td>\n",
       "      <td>Ensemble honorable.</td>\n",
       "    </tr>\n",
       "    <tr>\n",
       "      <th>3</th>\n",
       "      <td>3.5</td>\n",
       "      <td>9,06</td>\n",
       "      <td>0</td>\n",
       "      <td>19.5</td>\n",
       "      <td>Ensemble demeuré fragile.</td>\n",
       "    </tr>\n",
       "    <tr>\n",
       "      <th>4</th>\n",
       "      <td>12.5</td>\n",
       "      <td>9,06</td>\n",
       "      <td>0</td>\n",
       "      <td>19.5</td>\n",
       "      <td>Ensemble en recul mais qui demeure honorable.</td>\n",
       "    </tr>\n",
       "  </tbody>\n",
       "</table>\n",
       "</div>"
      ]
     },
     "metadata": {},
     "execution_count": 133
    }
   ],
   "metadata": {}
  },
  {
   "cell_type": "code",
   "execution_count": 134,
   "source": [
    "df.shape"
   ],
   "outputs": [
    {
     "output_type": "execute_result",
     "data": {
      "text/plain": [
       "(96, 5)"
      ]
     },
     "metadata": {},
     "execution_count": 134
    }
   ],
   "metadata": {}
  },
  {
   "cell_type": "code",
   "execution_count": 135,
   "source": [
    "df.to_csv('data_complete.csv', mode='a', header=None, index=None)"
   ],
   "outputs": [],
   "metadata": {}
  },
  {
   "cell_type": "markdown",
   "source": [
    "## Cleanup "
   ],
   "metadata": {}
  },
  {
   "cell_type": "code",
   "execution_count": 223,
   "source": [
    "df = pd.read_csv('data_complete.csv')\n",
    "df.head()"
   ],
   "outputs": [
    {
     "output_type": "execute_result",
     "data": {
      "text/plain": [
       "   Unnamed: 0  eleve classe    min    max  \\\n",
       "0           0  18,29  12,12   5,13  18,29   \n",
       "1           1  18,80  12,82   6,40  18,80   \n",
       "2           2  17,80  14,28   8,30  17,80   \n",
       "3           3  15,00  14,51  11,00  19,50   \n",
       "4           4  10,60  10,87   5,47  16,71   \n",
       "\n",
       "                                         commentaire  \n",
       "0  Un anglais de qualité (tant à l'oral qu'à l'éc...  \n",
       "1  Niveau d'anglais excellent. C'est très solide,...  \n",
       "2     Un excellent début d'année, poursuivez ainsi !  \n",
       "3                                      Bon ensemble.  \n",
       "4  Résultats corrects mais le comportement en cla...  "
      ],
      "text/html": [
       "<div>\n",
       "<style scoped>\n",
       "    .dataframe tbody tr th:only-of-type {\n",
       "        vertical-align: middle;\n",
       "    }\n",
       "\n",
       "    .dataframe tbody tr th {\n",
       "        vertical-align: top;\n",
       "    }\n",
       "\n",
       "    .dataframe thead th {\n",
       "        text-align: right;\n",
       "    }\n",
       "</style>\n",
       "<table border=\"1\" class=\"dataframe\">\n",
       "  <thead>\n",
       "    <tr style=\"text-align: right;\">\n",
       "      <th></th>\n",
       "      <th>Unnamed: 0</th>\n",
       "      <th>eleve</th>\n",
       "      <th>classe</th>\n",
       "      <th>min</th>\n",
       "      <th>max</th>\n",
       "      <th>commentaire</th>\n",
       "    </tr>\n",
       "  </thead>\n",
       "  <tbody>\n",
       "    <tr>\n",
       "      <th>0</th>\n",
       "      <td>0</td>\n",
       "      <td>18,29</td>\n",
       "      <td>12,12</td>\n",
       "      <td>5,13</td>\n",
       "      <td>18,29</td>\n",
       "      <td>Un anglais de qualité (tant à l'oral qu'à l'éc...</td>\n",
       "    </tr>\n",
       "    <tr>\n",
       "      <th>1</th>\n",
       "      <td>1</td>\n",
       "      <td>18,80</td>\n",
       "      <td>12,82</td>\n",
       "      <td>6,40</td>\n",
       "      <td>18,80</td>\n",
       "      <td>Niveau d'anglais excellent. C'est très solide,...</td>\n",
       "    </tr>\n",
       "    <tr>\n",
       "      <th>2</th>\n",
       "      <td>2</td>\n",
       "      <td>17,80</td>\n",
       "      <td>14,28</td>\n",
       "      <td>8,30</td>\n",
       "      <td>17,80</td>\n",
       "      <td>Un excellent début d'année, poursuivez ainsi !</td>\n",
       "    </tr>\n",
       "    <tr>\n",
       "      <th>3</th>\n",
       "      <td>3</td>\n",
       "      <td>15,00</td>\n",
       "      <td>14,51</td>\n",
       "      <td>11,00</td>\n",
       "      <td>19,50</td>\n",
       "      <td>Bon ensemble.</td>\n",
       "    </tr>\n",
       "    <tr>\n",
       "      <th>4</th>\n",
       "      <td>4</td>\n",
       "      <td>10,60</td>\n",
       "      <td>10,87</td>\n",
       "      <td>5,47</td>\n",
       "      <td>16,71</td>\n",
       "      <td>Résultats corrects mais le comportement en cla...</td>\n",
       "    </tr>\n",
       "  </tbody>\n",
       "</table>\n",
       "</div>"
      ]
     },
     "metadata": {},
     "execution_count": 223
    }
   ],
   "metadata": {}
  },
  {
   "cell_type": "markdown",
   "source": [
    "### Indexing\n",
    "data_complete has messy indexing"
   ],
   "metadata": {}
  },
  {
   "cell_type": "code",
   "execution_count": 224,
   "source": [
    "df = df.drop([df.columns[0]], axis=1)\n",
    "df.head()"
   ],
   "outputs": [
    {
     "output_type": "execute_result",
     "data": {
      "text/plain": [
       "   eleve classe    min    max  \\\n",
       "0  18,29  12,12   5,13  18,29   \n",
       "1  18,80  12,82   6,40  18,80   \n",
       "2  17,80  14,28   8,30  17,80   \n",
       "3  15,00  14,51  11,00  19,50   \n",
       "4  10,60  10,87   5,47  16,71   \n",
       "\n",
       "                                         commentaire  \n",
       "0  Un anglais de qualité (tant à l'oral qu'à l'éc...  \n",
       "1  Niveau d'anglais excellent. C'est très solide,...  \n",
       "2     Un excellent début d'année, poursuivez ainsi !  \n",
       "3                                      Bon ensemble.  \n",
       "4  Résultats corrects mais le comportement en cla...  "
      ],
      "text/html": [
       "<div>\n",
       "<style scoped>\n",
       "    .dataframe tbody tr th:only-of-type {\n",
       "        vertical-align: middle;\n",
       "    }\n",
       "\n",
       "    .dataframe tbody tr th {\n",
       "        vertical-align: top;\n",
       "    }\n",
       "\n",
       "    .dataframe thead th {\n",
       "        text-align: right;\n",
       "    }\n",
       "</style>\n",
       "<table border=\"1\" class=\"dataframe\">\n",
       "  <thead>\n",
       "    <tr style=\"text-align: right;\">\n",
       "      <th></th>\n",
       "      <th>eleve</th>\n",
       "      <th>classe</th>\n",
       "      <th>min</th>\n",
       "      <th>max</th>\n",
       "      <th>commentaire</th>\n",
       "    </tr>\n",
       "  </thead>\n",
       "  <tbody>\n",
       "    <tr>\n",
       "      <th>0</th>\n",
       "      <td>18,29</td>\n",
       "      <td>12,12</td>\n",
       "      <td>5,13</td>\n",
       "      <td>18,29</td>\n",
       "      <td>Un anglais de qualité (tant à l'oral qu'à l'éc...</td>\n",
       "    </tr>\n",
       "    <tr>\n",
       "      <th>1</th>\n",
       "      <td>18,80</td>\n",
       "      <td>12,82</td>\n",
       "      <td>6,40</td>\n",
       "      <td>18,80</td>\n",
       "      <td>Niveau d'anglais excellent. C'est très solide,...</td>\n",
       "    </tr>\n",
       "    <tr>\n",
       "      <th>2</th>\n",
       "      <td>17,80</td>\n",
       "      <td>14,28</td>\n",
       "      <td>8,30</td>\n",
       "      <td>17,80</td>\n",
       "      <td>Un excellent début d'année, poursuivez ainsi !</td>\n",
       "    </tr>\n",
       "    <tr>\n",
       "      <th>3</th>\n",
       "      <td>15,00</td>\n",
       "      <td>14,51</td>\n",
       "      <td>11,00</td>\n",
       "      <td>19,50</td>\n",
       "      <td>Bon ensemble.</td>\n",
       "    </tr>\n",
       "    <tr>\n",
       "      <th>4</th>\n",
       "      <td>10,60</td>\n",
       "      <td>10,87</td>\n",
       "      <td>5,47</td>\n",
       "      <td>16,71</td>\n",
       "      <td>Résultats corrects mais le comportement en cla...</td>\n",
       "    </tr>\n",
       "  </tbody>\n",
       "</table>\n",
       "</div>"
      ]
     },
     "metadata": {},
     "execution_count": 224
    }
   ],
   "metadata": {}
  },
  {
   "cell_type": "code",
   "execution_count": 225,
   "source": [
    "df.to_csv('data_clean.csv', index=None)"
   ],
   "outputs": [],
   "metadata": {}
  },
  {
   "cell_type": "markdown",
   "source": [
    "## Read"
   ],
   "metadata": {}
  },
  {
   "cell_type": "code",
   "execution_count": 226,
   "source": [
    "df = pd.read_csv('data_clean.csv')"
   ],
   "outputs": [],
   "metadata": {}
  },
  {
   "cell_type": "code",
   "execution_count": 231,
   "source": [
    "df['commentaire'].head()"
   ],
   "outputs": [
    {
     "output_type": "execute_result",
     "data": {
      "text/plain": [
       "0    Un anglais de qualité (tant à l'oral qu'à l'éc...\n",
       "1    Niveau d'anglais excellent. C'est très solide,...\n",
       "2       Un excellent début d'année, poursuivez ainsi !\n",
       "3                                        Bon ensemble.\n",
       "4    Résultats corrects mais le comportement en cla...\n",
       "Name: commentaire, dtype: object"
      ]
     },
     "metadata": {},
     "execution_count": 231
    }
   ],
   "metadata": {}
  },
  {
   "cell_type": "code",
   "execution_count": 232,
   "source": [
    "df.shape"
   ],
   "outputs": [
    {
     "output_type": "execute_result",
     "data": {
      "text/plain": [
       "(9357, 5)"
      ]
     },
     "metadata": {},
     "execution_count": 232
    }
   ],
   "metadata": {}
  },
  {
   "cell_type": "markdown",
   "source": [
    "### Nan values"
   ],
   "metadata": {}
  },
  {
   "cell_type": "code",
   "execution_count": 233,
   "source": [
    "# Drop na values from 'commentaire' column\n",
    "df = pd.read_csv('data_clean.csv')\n",
    "df2 = df.dropna(axis=\"index\", how=\"any\", subset=['commentaire'])"
   ],
   "outputs": [],
   "metadata": {}
  },
  {
   "cell_type": "code",
   "execution_count": 234,
   "source": [
    "# Other columns don't have any na value left\n",
    "cols = ['eleve', 'classe','min', 'max']\n",
    "[sum(df2[col].isna()) for col in cols]"
   ],
   "outputs": [
    {
     "output_type": "execute_result",
     "data": {
      "text/plain": [
       "[0, 0, 0, 0]"
      ]
     },
     "metadata": {},
     "execution_count": 234
    }
   ],
   "metadata": {}
  },
  {
   "cell_type": "code",
   "execution_count": null,
   "source": [
    "df2.isna().any()"
   ],
   "outputs": [],
   "metadata": {}
  },
  {
   "cell_type": "code",
   "execution_count": 235,
   "source": [
    "df.shape"
   ],
   "outputs": [
    {
     "output_type": "execute_result",
     "data": {
      "text/plain": [
       "(9357, 5)"
      ]
     },
     "metadata": {},
     "execution_count": 235
    }
   ],
   "metadata": {}
  },
  {
   "cell_type": "code",
   "execution_count": 236,
   "source": [
    "df2.shape"
   ],
   "outputs": [
    {
     "output_type": "execute_result",
     "data": {
      "text/plain": [
       "(8099, 5)"
      ]
     },
     "metadata": {},
     "execution_count": 236
    }
   ],
   "metadata": {}
  },
  {
   "cell_type": "code",
   "execution_count": 237,
   "source": [
    "df2.to_csv('data_clean.csv', index=None)"
   ],
   "outputs": [],
   "metadata": {}
  },
  {
   "cell_type": "markdown",
   "source": [
    "### Grades cleanup"
   ],
   "metadata": {}
  },
  {
   "cell_type": "code",
   "execution_count": 238,
   "source": [
    "df = pd.read_csv('data_clean.csv')\n",
    "df.head()"
   ],
   "outputs": [
    {
     "output_type": "execute_result",
     "data": {
      "text/plain": [
       "   eleve classe    min    max  \\\n",
       "0  18,29  12,12   5,13  18,29   \n",
       "1  18,80  12,82   6,40  18,80   \n",
       "2  17,80  14,28   8,30  17,80   \n",
       "3  15,00  14,51  11,00  19,50   \n",
       "4  10,60  10,87   5,47  16,71   \n",
       "\n",
       "                                         commentaire  \n",
       "0  Un anglais de qualité (tant à l'oral qu'à l'éc...  \n",
       "1  Niveau d'anglais excellent. C'est très solide,...  \n",
       "2     Un excellent début d'année, poursuivez ainsi !  \n",
       "3                                      Bon ensemble.  \n",
       "4  Résultats corrects mais le comportement en cla...  "
      ],
      "text/html": [
       "<div>\n",
       "<style scoped>\n",
       "    .dataframe tbody tr th:only-of-type {\n",
       "        vertical-align: middle;\n",
       "    }\n",
       "\n",
       "    .dataframe tbody tr th {\n",
       "        vertical-align: top;\n",
       "    }\n",
       "\n",
       "    .dataframe thead th {\n",
       "        text-align: right;\n",
       "    }\n",
       "</style>\n",
       "<table border=\"1\" class=\"dataframe\">\n",
       "  <thead>\n",
       "    <tr style=\"text-align: right;\">\n",
       "      <th></th>\n",
       "      <th>eleve</th>\n",
       "      <th>classe</th>\n",
       "      <th>min</th>\n",
       "      <th>max</th>\n",
       "      <th>commentaire</th>\n",
       "    </tr>\n",
       "  </thead>\n",
       "  <tbody>\n",
       "    <tr>\n",
       "      <th>0</th>\n",
       "      <td>18,29</td>\n",
       "      <td>12,12</td>\n",
       "      <td>5,13</td>\n",
       "      <td>18,29</td>\n",
       "      <td>Un anglais de qualité (tant à l'oral qu'à l'éc...</td>\n",
       "    </tr>\n",
       "    <tr>\n",
       "      <th>1</th>\n",
       "      <td>18,80</td>\n",
       "      <td>12,82</td>\n",
       "      <td>6,40</td>\n",
       "      <td>18,80</td>\n",
       "      <td>Niveau d'anglais excellent. C'est très solide,...</td>\n",
       "    </tr>\n",
       "    <tr>\n",
       "      <th>2</th>\n",
       "      <td>17,80</td>\n",
       "      <td>14,28</td>\n",
       "      <td>8,30</td>\n",
       "      <td>17,80</td>\n",
       "      <td>Un excellent début d'année, poursuivez ainsi !</td>\n",
       "    </tr>\n",
       "    <tr>\n",
       "      <th>3</th>\n",
       "      <td>15,00</td>\n",
       "      <td>14,51</td>\n",
       "      <td>11,00</td>\n",
       "      <td>19,50</td>\n",
       "      <td>Bon ensemble.</td>\n",
       "    </tr>\n",
       "    <tr>\n",
       "      <th>4</th>\n",
       "      <td>10,60</td>\n",
       "      <td>10,87</td>\n",
       "      <td>5,47</td>\n",
       "      <td>16,71</td>\n",
       "      <td>Résultats corrects mais le comportement en cla...</td>\n",
       "    </tr>\n",
       "  </tbody>\n",
       "</table>\n",
       "</div>"
      ]
     },
     "metadata": {},
     "execution_count": 238
    }
   ],
   "metadata": {}
  },
  {
   "cell_type": "markdown",
   "source": [
    "#### Multiple grades"
   ],
   "metadata": {}
  },
  {
   "cell_type": "code",
   "execution_count": 239,
   "source": [
    "# How many rows with multiple grades\n",
    "mask = df['eleve'].str.contains('\\r')\n",
    "mask.sum()"
   ],
   "outputs": [
    {
     "output_type": "execute_result",
     "data": {
      "text/plain": [
       "176"
      ]
     },
     "metadata": {},
     "execution_count": 239
    }
   ],
   "metadata": {}
  },
  {
   "cell_type": "code",
   "execution_count": 240,
   "source": [
    "# Filter these\n",
    "df = df[~mask]\n",
    "df.to_csv('data_clean.csv', index=False)"
   ],
   "outputs": [],
   "metadata": {}
  },
  {
   "cell_type": "code",
   "execution_count": 241,
   "source": [
    "# Remaining non numerical values are semantic\n",
    "df[~df['eleve'].str.contains('\\d+[\\.,]*\\d*', case=False, regex=True)].value_counts(subset=['eleve'])"
   ],
   "outputs": [
    {
     "output_type": "execute_result",
     "data": {
      "text/plain": [
       "eleve\n",
       "Disp     42\n",
       "Abs      36\n",
       "N.Not    33\n",
       "Inap      7\n",
       "dtype: int64"
      ]
     },
     "metadata": {},
     "execution_count": 241
    }
   ],
   "metadata": {}
  },
  {
   "cell_type": "markdown",
   "source": [
    "#### Formating numbers"
   ],
   "metadata": {}
  },
  {
   "cell_type": "code",
   "execution_count": 242,
   "source": [
    "cols = ['eleve', 'classe','min', 'max']\n",
    "for col in cols:\n",
    "    df[col] = df[col].str.replace(',','.', regex=True)"
   ],
   "outputs": [],
   "metadata": {}
  },
  {
   "cell_type": "code",
   "execution_count": null,
   "source": [
    "df = df.astype({\"classe\": 'float16', \"min\": 'float16', \"max\": 'float16'})\n",
    "df.info()"
   ],
   "outputs": [],
   "metadata": {}
  },
  {
   "cell_type": "code",
   "execution_count": 243,
   "source": [
    "df.shape"
   ],
   "outputs": [
    {
     "output_type": "execute_result",
     "data": {
      "text/plain": [
       "(7923, 5)"
      ]
     },
     "metadata": {},
     "execution_count": 243
    }
   ],
   "metadata": {}
  },
  {
   "cell_type": "markdown",
   "source": [
    "### Commentaires cleanup"
   ],
   "metadata": {}
  },
  {
   "cell_type": "code",
   "execution_count": 260,
   "source": [
    "# remove new line \\r returns\n",
    "mask = df['commentaire'].str.contains('\\r')\n",
    "len(df[mask])"
   ],
   "outputs": [
    {
     "output_type": "execute_result",
     "data": {
      "text/plain": [
       "0"
      ]
     },
     "metadata": {},
     "execution_count": 260
    }
   ],
   "metadata": {}
  },
  {
   "cell_type": "code",
   "execution_count": 256,
   "source": [
    "df['commentaire'] = df['commentaire'].str.replace('\\r',' ', regex=True)"
   ],
   "outputs": [],
   "metadata": {}
  },
  {
   "cell_type": "markdown",
   "source": [
    "## Filter comments with explicit field name"
   ],
   "metadata": {}
  },
  {
   "cell_type": "code",
   "execution_count": 262,
   "source": [
    "# Trouver le nombre d'appréciations contenant un mot clé \n",
    "keywords = [\"math\", \"phys\", 'anglais', \"françai\", \"sport\", \"natation\", \"judo\", \"basket\", \"course\", \"badmin\", \"yoga\", \"escalade\", \"littéra\", \"llce\", \"philo\", \"espagn\", \"allema\", \"italie\", \"musical\", \"musiq\", \"svt\", \"blouse\", \"scienc\", \"tp\", \"eps\", \"histoir\", \"géog\", \"dnl\", \"théât\", \"latin\", \"grec\", \"MPS\"]\n",
    "found = {}\n",
    "for keyword in keywords: \n",
    "    mask = df['commentaire'].str.contains(keyword, case=False, regex=False)\n",
    "    found[keyword] = len(df.loc[mask, \"commentaire\"])\n",
    "\n",
    "found"
   ],
   "outputs": [
    {
     "output_type": "execute_result",
     "data": {
      "text/plain": [
       "{'math': 52,\n",
       " 'phys': 12,\n",
       " 'anglais': 84,\n",
       " 'françai': 34,\n",
       " 'sport': 6,\n",
       " 'natation': 7,\n",
       " 'judo': 14,\n",
       " 'basket': 7,\n",
       " 'course': 4,\n",
       " 'badmin': 13,\n",
       " 'yoga': 4,\n",
       " 'escalade': 25,\n",
       " 'littéra': 4,\n",
       " 'philo': 0,\n",
       " 'espagn': 13,\n",
       " 'allema': 2,\n",
       " 'italie': 0,\n",
       " 'musical': 12,\n",
       " 'musiq': 0,\n",
       " 'svt': 48,\n",
       " 'scienc': 18,\n",
       " 'tp': 11,\n",
       " 'eps': 10,\n",
       " 'histoir': 6,\n",
       " 'géog': 5,\n",
       " 'dnl': 12,\n",
       " 'théât': 1,\n",
       " 'latin': 6,\n",
       " 'grec': 2,\n",
       " 'MPS': 47}"
      ]
     },
     "metadata": {},
     "execution_count": 262
    }
   ],
   "metadata": {}
  },
  {
   "cell_type": "code",
   "execution_count": 263,
   "source": [
    "# Total d'appréciations contenant le nom de la discipline\n",
    "functools.reduce(lambda x,y: x+y, found.values(), 0)"
   ],
   "outputs": [
    {
     "output_type": "execute_result",
     "data": {
      "text/plain": [
       "459"
      ]
     },
     "metadata": {},
     "execution_count": 263
    }
   ],
   "metadata": {}
  },
  {
   "cell_type": "code",
   "execution_count": 264,
   "source": [
    "# Filter ces appréciations\n",
    "pattern = \"|\".join(keywords)\n",
    "mask = df['commentaire'].str.contains(pattern, case=False, regex=True)\n",
    "df = df.loc[~mask]\n",
    "\n",
    "df.shape"
   ],
   "outputs": [
    {
     "output_type": "execute_result",
     "data": {
      "text/plain": [
       "(7493, 5)"
      ]
     },
     "metadata": {},
     "execution_count": 264
    }
   ],
   "metadata": {}
  },
  {
   "cell_type": "markdown",
   "source": [
    "## Filter stutdents names"
   ],
   "metadata": {}
  },
  {
   "cell_type": "code",
   "execution_count": 265,
   "source": [
    "# Create list of all student names from files\n",
    "files = os.listdir('./Bulletins')\n",
    "student_names = set()\n",
    "for filename in files:\n",
    "  name = re.search(\"^(?P<nom>[A-Z\\- ]*) (?P<prenom>.*)-Trimestre\", filename)\n",
    "  student_names.add(name.group(\"nom\"))\n",
    "  student_names.add(name.group(\"prenom\"))\n",
    "\n",
    "student_names;"
   ],
   "outputs": [],
   "metadata": {}
  },
  {
   "cell_type": "code",
   "execution_count": 352,
   "source": [
    "# Trouver le nombre d'appréciations contenant un nom d'élève (insensible aux accents)\n",
    "student_names_found = {}\n",
    "for name in student_names: \n",
    "    mask = df['commentaire'].apply(lambda x: unidecode(x)).str.contains(f\" {unidecode(name)} \", case=False, regex=False)\n",
    "    nb = len(df.loc[mask, \"commentaire\"])\n",
    "    if nb > 0:\n",
    "        student_names_found[name] = nb"
   ],
   "outputs": [],
   "metadata": {}
  },
  {
   "cell_type": "code",
   "execution_count": 353,
   "source": [
    "student_names_found"
   ],
   "outputs": [
    {
     "output_type": "execute_result",
     "data": {
      "text/plain": [
       "{}"
      ]
     },
     "metadata": {},
     "execution_count": 353
    }
   ],
   "metadata": {}
  },
  {
   "cell_type": "code",
   "execution_count": 287,
   "source": [
    "# Total des noms d'élèves apparaissant en commentaire\n",
    "functools.reduce(lambda summ, x: summ+x, student_names_found.values(), 0)"
   ],
   "outputs": [
    {
     "output_type": "execute_result",
     "data": {
      "text/plain": [
       "1402"
      ]
     },
     "metadata": {},
     "execution_count": 287
    }
   ],
   "metadata": {}
  },
  {
   "cell_type": "code",
   "execution_count": 349,
   "source": [
    "# Fonction qui anonymise une string en cherchant un pattern de noms et les remplaçant par <name>, insensible aux accents et aux majuscules. \n",
    "# Le reste de la string est inchangé (reste accentué)\n",
    "def accent_i_replace(strg, pattern):\n",
    "    m = re.search(f\" {unidecode(pattern)} \", unidecode(strg), re.IGNORECASE)\n",
    "    \n",
    "    # Find accented version\n",
    "    if m:\n",
    "        accented = strg[m.start():m.end()]\n",
    "        return strg.replace(accented, ' <name> ')\n",
    "    else:\n",
    "        return strg\n"
   ],
   "outputs": [],
   "metadata": {}
  },
  {
   "cell_type": "code",
   "execution_count": 351,
   "source": [
    "# Remplace les noms d'élèves (insensible aux accents) dans les appréciations par '<name>'\n",
    "pattern = \"|\".join(student_names)\n",
    "df['commentaire'] = df['commentaire'].apply(lambda x: accent_i_replace(x, pattern))\n"
   ],
   "outputs": [],
   "metadata": {}
  },
  {
   "cell_type": "markdown",
   "source": [
    "### Nettoyer les commmentaires tronqués"
   ],
   "metadata": {}
  },
  {
   "cell_type": "code",
   "execution_count": 429,
   "source": [
    "# Trouve les commentaires incluant des ponctuations mais ne finissant pas par une ponctuation et capture le bout de commentaire depuis la dernière ponctuation\n",
    "# Pattern first group: capturing (greedy) group ending in punctuation (. ? !)\n",
    "# Pattern second group : non capturing ignore group (everything else)\n",
    "# If there is a match, .replace will only keep the 'keep' group. So it keeps one liner comments without punctuation\n",
    "pattern = \"(?P<keep>.*[\\.?!])(?:.*)\"\n",
    "df[\"commentaire\"] = df[\"commentaire\"].str.replace(pattern, lambda m: m.group(\"keep\"))"
   ],
   "outputs": [
    {
     "output_type": "stream",
     "name": "stderr",
     "text": [
      "<ipython-input-429-c4b07f24c590>:5: FutureWarning: The default value of regex will change from True to False in a future version.\n",
      "  df[\"commentaire\"] = df[\"commentaire\"].str.replace(pattern, lambda m: m.group(\"keep\"))\n"
     ]
    }
   ],
   "metadata": {}
  },
  {
   "cell_type": "code",
   "execution_count": 433,
   "source": [
    "# Certains i ne sont pas bien passés\n",
    "df[\"commentaire\"] = df[\"commentaire\"].str.replace(\"í\", \"i\")"
   ],
   "outputs": [],
   "metadata": {}
  },
  {
   "cell_type": "code",
   "execution_count": 20,
   "source": [
    "# Il y a quelques caractère russes dans un commentaire (trouvé par inspection des caractères uniques présents dans l'ensemble des commentaires)\n",
    "list(df.loc[df['commentaire'].str.contains(\"и\"), 'commentaire'])"
   ],
   "outputs": [
    {
     "output_type": "execute_result",
     "data": {
      "text/plain": [
       "[\"C'est un bon trimestre  <name> . Vous êtes plus attentive, vous mûrissez, vous progressez. Continuez ainsi. Pour les friandises exotiques que vous avez partagees avec la classe : сп асибо  !\"]"
      ]
     },
     "metadata": {},
     "execution_count": 20
    }
   ],
   "metadata": {}
  },
  {
   "cell_type": "code",
   "execution_count": 21,
   "source": [
    "# On filtre le commentaire russe\n",
    "df = df.loc[~df['commentaire'].str.contains(\"и\")]"
   ],
   "outputs": [
    {
     "output_type": "stream",
     "name": "stdout",
     "text": [
      "<class 'pandas.core.frame.DataFrame'>\n",
      "Int64Index: 7492 entries, 0 to 7492\n",
      "Data columns (total 5 columns):\n",
      " #   Column       Non-Null Count  Dtype  \n",
      "---  ------       --------------  -----  \n",
      " 0   eleve        7492 non-null   object \n",
      " 1   classe       7492 non-null   float64\n",
      " 2   min          7492 non-null   float64\n",
      " 3   max          7492 non-null   float64\n",
      " 4   commentaire  7492 non-null   object \n",
      "dtypes: float64(3), object(2)\n",
      "memory usage: 351.2+ KB\n"
     ]
    }
   ],
   "metadata": {}
  },
  {
   "cell_type": "markdown",
   "source": [
    "## Inspect Disp, Abs, NNot comments"
   ],
   "metadata": {}
  },
  {
   "cell_type": "code",
   "execution_count": 432,
   "source": [
    "tags = [\"Disp\", \"Abs\", \"N.Not\", \"Inap\"]\n",
    "df.loc[df['eleve'] == \"Disp\", \"commentaire\"]"
   ],
   "outputs": [
    {
     "output_type": "execute_result",
     "data": {
      "text/plain": [
       "66                                Dispensée ce trimestre.\n",
       "243                                Dispensé ce trimestre.\n",
       "311                            Dispensée en fin de cycle.\n",
       "438                               Dispensée ce trimestre.\n",
       "635                                    Dispensé à l'année\n",
       "800                            Dispensé pour l'évaluation\n",
       "988     Dispensée la majeure partie du trimestre,  <na...\n",
       "1307    Un bon début d'année scolaire. Dispensée en fi...\n",
       "1348                                             Dispensé\n",
       "1768                              Dispensée ce trimestre.\n",
       "1925     <name>  est loin d'exploiter au maximum ses c...\n",
       "2063    Une petite participation en début de trimestre...\n",
       "2706                            Dispensé en fin de cycle.\n",
       "2808    Dispense parentale le jour de l'évaluation... ...\n",
       "2906                                             Dispensé\n",
       "2970                           Dispensée en fin de cycle.\n",
       "3301                              Dispensée ce trimestre.\n",
       "3564                                             Dispensé\n",
       "3612                                             Dispensé\n",
       "3622    Des problèmes de santé ce trimestre. Situation...\n",
       "3964                              Dispensée ce trimestre.\n",
       "4045                                             Dispensé\n",
       "4295                                            Dispensé.\n",
       "4609                         Dispensée pour le trimestre.\n",
       "4856                                             Dispensé\n",
       "4875                               Dispensé ce trimestre.\n",
       "5284       Un ensemble moyen. Dispensé pour l'évaluation.\n",
       "5554                              Dispensée ce trimestre.\n",
       "5599                                            Dispensée\n",
       "6025    Non notée ce trimestre en raison de douleurs a...\n",
       "6323                                            Dispensée\n",
       "6986                                            Dispensée\n",
       "7004                                             Dispenée\n",
       "7105                               Non notée ce trimestre\n",
       "Name: commentaire, dtype: object"
      ]
     },
     "metadata": {},
     "execution_count": 432
    }
   ],
   "metadata": {}
  },
  {
   "cell_type": "markdown",
   "source": [
    "## Load"
   ],
   "metadata": {}
  },
  {
   "cell_type": "code",
   "execution_count": 3,
   "source": [
    "df = pd.read_csv('data_clean.csv')"
   ],
   "outputs": [],
   "metadata": {}
  },
  {
   "cell_type": "markdown",
   "source": [
    "## Save"
   ],
   "metadata": {}
  },
  {
   "cell_type": "code",
   "execution_count": 23,
   "source": [
    "df.to_csv('data_clean.csv', index=False)"
   ],
   "outputs": [],
   "metadata": {}
  },
  {
   "cell_type": "code",
   "execution_count": null,
   "source": [],
   "outputs": [],
   "metadata": {}
  }
 ]
}